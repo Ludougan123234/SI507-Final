{
 "cells": [
  {
   "cell_type": "code",
   "execution_count": null,
   "metadata": {},
   "outputs": [],
   "source": [
    "import requests\n",
    "from secret import FDAKEY\n",
    "import random"
   ]
  },
  {
   "cell_type": "markdown",
   "metadata": {},
   "source": [
    "## RNorm\n"
   ]
  },
  {
   "cell_type": "code",
   "execution_count": 39,
   "metadata": {},
   "outputs": [],
   "source": [
    "content = requests.get('https://rxnav.nlm.nih.gov/REST/drugs.json?name=tylenol').json()"
   ]
  },
  {
   "cell_type": "code",
   "execution_count": 40,
   "metadata": {},
   "outputs": [
    {
     "name": "stdout",
     "output_type": "stream",
     "text": [
      "1243440 8 HR acetaminophen 650 MG Extended Release Oral Tablet [Tylenol]\n",
      "1738139 acetaminophen 325 MG Oral Capsule [Tylenol]\n",
      "209387 acetaminophen 325 MG Oral Tablet [Tylenol]\n",
      "209459 acetaminophen 500 MG Oral Tablet [Tylenol]\n",
      "2178758 acetaminophen 160 MG Oral Powder [Tylenol]\n",
      "2374361 acetaminophen 500 MG Oral Powder [Tylenol]\n",
      "828555 acetaminophen 32 MG/ML Oral Suspension [Tylenol]\n",
      "828557 acetaminophen 160 MG Chewable Tablet [Tylenol]\n"
     ]
    }
   ],
   "source": [
    "for i in content['drugGroup']['conceptGroup']:\n",
    "    try: \n",
    "        for j in i['conceptProperties']:\n",
    "            print(j['rxcui'], j['name'])\n",
    "    except KeyError:\n",
    "        pass"
   ]
  },
  {
   "cell_type": "code",
   "execution_count": 37,
   "metadata": {},
   "outputs": [
    {
     "data": {
      "text/plain": [
       "{'1307431': 'sildenafil 10 MG/ML Oral Suspension [Revatio]',\n",
       " '213269': 'sildenafil 25 MG Oral Tablet [Viagra]',\n",
       " '213270': 'sildenafil 50 MG Oral Tablet [Viagra]',\n",
       " '213271': 'sildenafil 100 MG Oral Tablet [Viagra]',\n",
       " '2637056': 'sildenafil citrate 10 MG/ML Oral Suspension [Liqrev]',\n",
       " '581645': 'sildenafil 20 MG Oral Tablet [Revatio]',\n",
       " '882530': '12.5 ML sildenafil 0.8 MG/ML Injection [Revatio]',\n",
       " '1307427': 'sildenafil 10 MG/ML Oral Suspension',\n",
       " '2637050': 'sildenafil citrate 10 MG/ML Oral Suspension',\n",
       " '312950': 'sildenafil 50 MG Oral Tablet',\n",
       " '314228': 'sildenafil 25 MG Oral Tablet',\n",
       " '314229': 'sildenafil 100 MG Oral Tablet',\n",
       " '577033': 'sildenafil 20 MG Oral Tablet',\n",
       " '882527': '12.5 ML sildenafil 0.8 MG/ML Injection',\n",
       " '1243440': '8 HR acetaminophen 650 MG Extended Release Oral Tablet [Tylenol]',\n",
       " '1738139': 'acetaminophen 325 MG Oral Capsule [Tylenol]',\n",
       " '209387': 'acetaminophen 325 MG Oral Tablet [Tylenol]',\n",
       " '209459': 'acetaminophen 500 MG Oral Tablet [Tylenol]',\n",
       " '2178758': 'acetaminophen 160 MG Oral Powder [Tylenol]',\n",
       " '2374361': 'acetaminophen 500 MG Oral Powder [Tylenol]',\n",
       " '828555': 'acetaminophen 32 MG/ML Oral Suspension [Tylenol]',\n",
       " '828557': 'acetaminophen 160 MG Chewable Tablet [Tylenol]'}"
      ]
     },
     "execution_count": 37,
     "metadata": {},
     "output_type": "execute_result"
    }
   ],
   "source": [
    "def getRxNorm(query_str):\n",
    "    query_str = [i.strip() for i in query_str.split(',')]\n",
    "    cui_name = {}\n",
    "    for q in query_str:\n",
    "        content = requests.get(f'https://rxnav.nlm.nih.gov/REST/drugs.json?name={q}').json()\n",
    "        for i in content['drugGroup']['conceptGroup']:\n",
    "            try: \n",
    "                for j in i['conceptProperties']:\n",
    "                    # cui_name.append([j['rxcui'], j['name']])\n",
    "                    cui_name[j['rxcui']] = j['name']\n",
    "            except KeyError:\n",
    "                pass\n",
    "    return cui_name\n",
    "    \n",
    "getRxNorm('sildenafil, tylenol')"
   ]
  },
  {
   "cell_type": "markdown",
   "metadata": {},
   "source": [
    "## FDA API"
   ]
  },
  {
   "cell_type": "code",
   "execution_count": null,
   "metadata": {},
   "outputs": [],
   "source": [
    "# count patient sex\n",
    "# https://api.fda.gov/drug/event.json?search=patient.drug.openfda.rxcui:%22207106%22&count=patient.patientsex\n",
    "\n",
    "# count patient onstage age\n",
    "# https://api.fda.gov/drug/event.json?search=patient.drug.openfda.rxcui:%22207106%22&count=patient.patientonsetage"
   ]
  },
  {
   "cell_type": "code",
   "execution_count": null,
   "metadata": {},
   "outputs": [],
   "source": [
    "def getFda(query_cui):\n",
    "    content = requests.get('https://api.fda.gov/drug/event.json?search=patient.drug.openfda.rxcui:\\'581645\\'').json()"
   ]
  },
  {
   "cell_type": "code",
   "execution_count": 23,
   "metadata": {},
   "outputs": [],
   "source": [
    "content = requests.get('https://api.fda.gov/drug/event.json?search=patient.drug.openfda.rxcui:\\'581645\\'').json()"
   ]
  },
  {
   "cell_type": "code",
   "execution_count": null,
   "metadata": {},
   "outputs": [],
   "source": [
    "content"
   ]
  },
  {
   "cell_type": "markdown",
   "metadata": {},
   "source": [
    "## RXInteraction"
   ]
  },
  {
   "cell_type": "code",
   "execution_count": 38,
   "metadata": {},
   "outputs": [],
   "source": [
    "content = requests.get('https://rxnav.nlm.nih.gov/REST/interaction/list.json?rxcuis=207106+152923+656659+828557+828555+209387+1738139').json()"
   ]
  },
  {
   "cell_type": "code",
   "execution_count": null,
   "metadata": {},
   "outputs": [],
   "source": [
    "content"
   ]
  },
  {
   "cell_type": "code",
   "execution_count": 41,
   "metadata": {},
   "outputs": [
    {
     "data": {
      "text/plain": [
       "3"
      ]
     },
     "execution_count": 41,
     "metadata": {},
     "output_type": "execute_result"
    }
   ],
   "source": [
    "len(content['fullInteractionTypeGroup'][0])"
   ]
  },
  {
   "cell_type": "code",
   "execution_count": 66,
   "metadata": {},
   "outputs": [
    {
     "name": "stdout",
     "output_type": "stream",
     "text": [
      "DrugBank 1738139 acetaminophen 325 MG Oral Capsule [Tylenol] 207106 fluconazole 50 MG Oral Tablet [Diflucan] N/A The metabolism of Acetaminophen can be decreased when combined with Fluconazole.\n",
      "DrugBank 152923 simvastatin 40 MG Oral Tablet [Zocor] 828555 acetaminophen 32 MG/ML Oral Suspension [Tylenol] N/A The metabolism of Simvastatin can be decreased when combined with Acetaminophen.\n",
      "DrugBank 152923 simvastatin 40 MG Oral Tablet [Zocor] 656659 bosentan 125 MG Oral Tablet N/A The serum concentration of Simvastatin can be decreased when it is combined with Bosentan.\n",
      "DrugBank 207106 fluconazole 50 MG Oral Tablet [Diflucan] 828557 acetaminophen 160 MG Chewable Tablet [Tylenol] N/A The metabolism of Acetaminophen can be decreased when combined with Fluconazole.\n",
      "DrugBank 207106 fluconazole 50 MG Oral Tablet [Diflucan] 209387 acetaminophen 325 MG Oral Tablet [Tylenol] N/A The metabolism of Acetaminophen can be decreased when combined with Fluconazole.\n",
      "DrugBank 152923 simvastatin 40 MG Oral Tablet [Zocor] 207106 fluconazole 50 MG Oral Tablet [Diflucan] N/A The metabolism of Simvastatin can be decreased when combined with Fluconazole.\n",
      "DrugBank 207106 fluconazole 50 MG Oral Tablet [Diflucan] 656659 bosentan 125 MG Oral Tablet N/A The metabolism of Bosentan can be decreased when combined with Fluconazole.\n",
      "DrugBank 152923 simvastatin 40 MG Oral Tablet [Zocor] 828557 acetaminophen 160 MG Chewable Tablet [Tylenol] N/A The metabolism of Simvastatin can be decreased when combined with Acetaminophen.\n",
      "DrugBank 207106 fluconazole 50 MG Oral Tablet [Diflucan] 828555 acetaminophen 32 MG/ML Oral Suspension [Tylenol] N/A The metabolism of Acetaminophen can be decreased when combined with Fluconazole.\n",
      "DrugBank 152923 simvastatin 40 MG Oral Tablet [Zocor] 209387 acetaminophen 325 MG Oral Tablet [Tylenol] N/A The metabolism of Simvastatin can be decreased when combined with Acetaminophen.\n",
      "DrugBank 152923 simvastatin 40 MG Oral Tablet [Zocor] 1738139 acetaminophen 325 MG Oral Capsule [Tylenol] N/A The metabolism of Simvastatin can be decreased when combined with Acetaminophen.\n",
      "ONCHigh 152923 simvastatin 40 MG Oral Tablet [Zocor] 207106 fluconazole 50 MG Oral Tablet [Diflucan] high HMG Co-A reductase inhibitors - CYP3A4 inhibitors\n"
     ]
    }
   ],
   "source": [
    "for i in content['fullInteractionTypeGroup']:\n",
    "    for j in i['fullInteractionType']:\n",
    "        print(i['sourceName'],\n",
    "              j['minConcept'][0]['rxcui'],\n",
    "              j['minConcept'][0]['name'],\n",
    "              j['minConcept'][1]['rxcui'],\n",
    "              j['minConcept'][1]['name'],\n",
    "              j['interactionPair'][0]['severity'],  \n",
    "              j['interactionPair'][0]['description'])"
   ]
  },
  {
   "cell_type": "code",
   "execution_count": 81,
   "metadata": {},
   "outputs": [
    {
     "name": "stdout",
     "output_type": "stream",
     "text": [
      "207106 and 1738139 has interaction \"The metabolism of Acetaminophen can be decreased when combined with Fluconazole.\"\n",
      "207106 and 828557 has interaction \"The metabolism of Acetaminophen can be decreased when combined with Fluconazole.\"\n",
      "207106 and 209387 has interaction \"The metabolism of Acetaminophen can be decreased when combined with Fluconazole.\"\n",
      "207106 and 152923 has interaction \"HMG Co-A reductase inhibitors - CYP3A4 inhibitors\"\n",
      "207106 and 656659 has interaction \"The metabolism of Bosentan can be decreased when combined with Fluconazole.\"\n",
      "207106 and 828555 has interaction \"The metabolism of Acetaminophen can be decreased when combined with Fluconazole.\"\n",
      "\n"
     ]
    }
   ],
   "source": [
    "class Edge:\n",
    "    def __init__(self, src, dest, source, severity, additional_info):\n",
    "        self.src = src # source\n",
    "        self.dest = dest # destination \n",
    "        self.source = source  # source of info\n",
    "        self.severity = severity  # severity of interaction\n",
    "        self.additional_info = additional_info  # description of interaction\n",
    "\n",
    "    def __str__(self):\n",
    "        return f\"{self.src.id} and {self.dest.id} has interaction \\\"{self.additional_info}\\\"\\n\"\n",
    "\n",
    "class Vertex:\n",
    "    def __init__(self, value, name):\n",
    "        self.id = value # RxNorm CUI\n",
    "        # TODO: Name\n",
    "        self.name = name\n",
    "        # TODO: User choices - implemented patient sex agg. only\n",
    "        # self.reaction_sex = reaction_sex\n",
    "\n",
    "        self.connectedTo = {}  # Key: Vertex, Value: Edge\n",
    "\n",
    "    def __str__(self):\n",
    "        return f\"{''.join([str(edge) for edge in self.connectedTo.values()])}\"\n",
    "\n",
    "    def add_neighbor(self, nbr, edge):\n",
    "        self.connectedTo[nbr] = edge\n",
    "\n",
    "class Graph:\n",
    "    def __init__(self):\n",
    "        self.vert_list = {}  # vertices\n",
    "        self.num_vertices = 0\n",
    "\n",
    "    def add_vertex(self, key, name):\n",
    "        self.num_vertices += 1\n",
    "        new_vertex = Vertex(key, name)\n",
    "        self.vert_list[key] = new_vertex\n",
    "        return new_vertex\n",
    "\n",
    "    def add_edge(self, f, f_name, t, t_name, source, severity, additional_info):\n",
    "        # vertex\n",
    "        if f not in self.vert_list:\n",
    "            self.add_vertex(f, f_name)\n",
    "        if t not in self.vert_list:\n",
    "            self.add_vertex(t, t_name)\n",
    "\n",
    "        # edge\n",
    "        edge = Edge(self.vert_list[f], self.vert_list[t], source, severity, additional_info)\n",
    "        self.vert_list[f].add_neighbor(self.vert_list[t], edge)\n",
    "        # If the graph is undirected, you might also want to add the reverse edge:\n",
    "        reverse_edge = Edge(self.vert_list[t], self.vert_list[f], source, severity, additional_info)\n",
    "        self.vert_list[t].add_neighbor(self.vert_list[f], reverse_edge)\n",
    "\n",
    "# Example usage\n",
    "graph = Graph()\n",
    "\n",
    "\n",
    "for i in content['fullInteractionTypeGroup']:\n",
    "    for j in i['fullInteractionType']:\n",
    "        graph.add_edge(\n",
    "            j['minConcept'][0]['rxcui'],\n",
    "            j['minConcept'][0]['name'],\n",
    "            j['minConcept'][1]['rxcui'],\n",
    "            j['minConcept'][1]['name'],\n",
    "            i['sourceName'],\n",
    "            j['interactionPair'][0]['severity'],\n",
    "            j['interactionPair'][0]['description']\n",
    "        )\n",
    "\n",
    "print(graph.vert_list[\"207106\"])"
   ]
  },
  {
   "cell_type": "code",
   "execution_count": 83,
   "metadata": {},
   "outputs": [
    {
     "data": {
      "image/png": "[encoded data removed]",
      "text/plain": [
       "<Figure size 640x480 with 1 Axes>"
      ]
     },
     "metadata": {},
     "output_type": "display_data"
    },
    {
     "ename": "AttributeError",
     "evalue": "'NoneType' object has no attribute 'title'",
     "output_type": "error",
     "traceback": [
      "\u001b[0;31m---------------------------------------------------------------------------\u001b[0m",
      "\u001b[0;31mAttributeError\u001b[0m                            Traceback (most recent call last)",
      "\u001b[1;32m/Users/randy/My Drive/Sync_Google drive/Grad School/2023FA/507final/try.ipynb Cell 17\u001b[0m line \u001b[0;36m<cell line: 18>\u001b[0;34m()\u001b[0m\n\u001b[1;32m     <a href='vscode-notebook-cell:/Users/randy/My%20Drive/Sync_Google%20drive/Grad%20School/2023FA/507final/try.ipynb#X20sZmlsZQ%3D%3D?line=15'>16</a>\u001b[0m \u001b[39m# Assuming you have an instance of your Graph class named 'graph'\u001b[39;00m\n\u001b[1;32m     <a href='vscode-notebook-cell:/Users/randy/My%20Drive/Sync_Google%20drive/Grad%20School/2023FA/507final/try.ipynb#X20sZmlsZQ%3D%3D?line=16'>17</a>\u001b[0m ax \u001b[39m=\u001b[39m create_networkx_graph(graph)\n\u001b[0;32m---> <a href='vscode-notebook-cell:/Users/randy/My%20Drive/Sync_Google%20drive/Grad%20School/2023FA/507final/try.ipynb#X20sZmlsZQ%3D%3D?line=17'>18</a>\u001b[0m ax\u001b[39m.\u001b[39;49mtitle(\u001b[39m\"\u001b[39m\u001b[39m123\u001b[39m\u001b[39m\"\u001b[39m)\n",
      "\u001b[0;31mAttributeError\u001b[0m: 'NoneType' object has no attribute 'title'"
     ]
    }
   ],
   "source": [
    "import networkx as nx\n",
    "import matplotlib.pyplot as plt\n",
    "\n",
    "def create_networkx_graph(your_graph):\n",
    "    G = nx.Graph()\n",
    "    for vertex in your_graph.vert_list.values():\n",
    "        for edge in vertex.connectedTo.values():\n",
    "            G.add_edge(edge.src.id, edge.dest.id)\n",
    "\n",
    "    pos = nx.spring_layout(G)  # positions for all nodes\n",
    "    nx.draw(G, pos, with_labels=True)\n",
    "    edge_labels = nx.get_edge_attributes(G, 'weight')\n",
    "    nx.draw_networkx_edge_labels(G, pos, edge_labels=edge_labels)\n",
    "    plt.show()\n",
    "\n",
    "# Assuming you have an instance of your Graph class named 'graph'\n",
    "create_networkx_graph(graph)"
   ]
  }
 ],
 "metadata": {
  "kernelspec": {
   "display_name": "numpy_m1_build",
   "language": "python",
   "name": "python3"
  },
  "language_info": {
   "codemirror_mode": {
    "name": "ipython",
    "version": 3
   },
   "file_extension": ".py",
   "mimetype": "text/x-python",
   "name": "python",
   "nbconvert_exporter": "python",
   "pygments_lexer": "ipython3",
   "version": "3.10.4"
  }
 },
 "nbformat": 4,
 "nbformat_minor": 2
}
