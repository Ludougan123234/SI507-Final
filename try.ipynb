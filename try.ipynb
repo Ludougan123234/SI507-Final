{
 "cells": [
  {
   "cell_type": "code",
   "execution_count": 20,
   "metadata": {},
   "outputs": [],
   "source": [
    "import requests\n",
    "import random\n",
    "import plotly.graph_objects as go"
   ]
  },
  {
   "cell_type": "markdown",
   "metadata": {},
   "source": [
    "## RNorm\n"
   ]
  },
  {
   "cell_type": "code",
   "execution_count": 2,
   "metadata": {},
   "outputs": [
    {
     "data": {
      "text/plain": [
       "{'drugGroup': {'name': None,\n",
       "  'conceptGroup': [{'tty': 'BPCK'},\n",
       "   {'tty': 'SBD',\n",
       "    'conceptProperties': [{'rxcui': '1243440',\n",
       "      'name': '8 HR acetaminophen 650 MG Extended Release Oral Tablet [Tylenol]',\n",
       "      'synonym': 'Tylenol 650 MG 8 HR Extended Release Oral Tablet',\n",
       "      'tty': 'SBD',\n",
       "      'language': 'ENG',\n",
       "      'suppress': 'N',\n",
       "      'umlscui': ''},\n",
       "     {'rxcui': '1738139',\n",
       "      'name': 'acetaminophen 325 MG Oral Capsule [Tylenol]',\n",
       "      'synonym': 'Tylenol 325 MG Oral Capsule',\n",
       "      'tty': 'SBD',\n",
       "      'language': 'ENG',\n",
       "      'suppress': 'N',\n",
       "      'umlscui': ''},\n",
       "     {'rxcui': '209387',\n",
       "      'name': 'acetaminophen 325 MG Oral Tablet [Tylenol]',\n",
       "      'synonym': 'Tylenol 325 MG Oral Tablet',\n",
       "      'tty': 'SBD',\n",
       "      'language': 'ENG',\n",
       "      'suppress': 'N',\n",
       "      'umlscui': ''},\n",
       "     {'rxcui': '209459',\n",
       "      'name': 'acetaminophen 500 MG Oral Tablet [Tylenol]',\n",
       "      'synonym': 'Tylenol 500 MG Oral Tablet',\n",
       "      'tty': 'SBD',\n",
       "      'language': 'ENG',\n",
       "      'suppress': 'N',\n",
       "      'umlscui': ''},\n",
       "     {'rxcui': '2178758',\n",
       "      'name': 'acetaminophen 160 MG Oral Powder [Tylenol]',\n",
       "      'synonym': 'Tylenol 160 MG Oral Powder',\n",
       "      'tty': 'SBD',\n",
       "      'language': 'ENG',\n",
       "      'suppress': 'N',\n",
       "      'umlscui': ''},\n",
       "     {'rxcui': '2374361',\n",
       "      'name': 'acetaminophen 500 MG Oral Powder [Tylenol]',\n",
       "      'synonym': 'Tylenol 500 MG Oral Powder',\n",
       "      'tty': 'SBD',\n",
       "      'language': 'ENG',\n",
       "      'suppress': 'N',\n",
       "      'umlscui': ''},\n",
       "     {'rxcui': '828555',\n",
       "      'name': 'acetaminophen 32 MG/ML Oral Suspension [Tylenol]',\n",
       "      'synonym': 'Tylenol 32 MG/ML Oral Suspension',\n",
       "      'tty': 'SBD',\n",
       "      'language': 'ENG',\n",
       "      'suppress': 'N',\n",
       "      'umlscui': ''},\n",
       "     {'rxcui': '828557',\n",
       "      'name': 'acetaminophen 160 MG Chewable Tablet [Tylenol]',\n",
       "      'synonym': 'Tylenol 160 MG Chewable Tablet',\n",
       "      'tty': 'SBD',\n",
       "      'language': 'ENG',\n",
       "      'suppress': 'N',\n",
       "      'umlscui': ''}]}]}}"
      ]
     },
     "execution_count": 2,
     "metadata": {},
     "output_type": "execute_result"
    }
   ],
   "source": [
    "content = requests.get('https://rxnav.nlm.nih.gov/REST/drugs.json?name=tylenol').json()\n",
    "content"
   ]
  },
  {
   "cell_type": "code",
   "execution_count": 3,
   "metadata": {},
   "outputs": [
    {
     "name": "stdout",
     "output_type": "stream",
     "text": [
      "1243440 8 HR acetaminophen 650 MG Extended Release Oral Tablet [Tylenol]\n",
      "1738139 acetaminophen 325 MG Oral Capsule [Tylenol]\n",
      "209387 acetaminophen 325 MG Oral Tablet [Tylenol]\n",
      "209459 acetaminophen 500 MG Oral Tablet [Tylenol]\n",
      "2178758 acetaminophen 160 MG Oral Powder [Tylenol]\n",
      "2374361 acetaminophen 500 MG Oral Powder [Tylenol]\n",
      "828555 acetaminophen 32 MG/ML Oral Suspension [Tylenol]\n",
      "828557 acetaminophen 160 MG Chewable Tablet [Tylenol]\n"
     ]
    }
   ],
   "source": [
    "for i in content['drugGroup']['conceptGroup']:\n",
    "    try: \n",
    "        for j in i['conceptProperties']:\n",
    "            print(j['rxcui'], j['name'])\n",
    "    except KeyError:\n",
    "        pass"
   ]
  },
  {
   "cell_type": "code",
   "execution_count": 4,
   "metadata": {},
   "outputs": [],
   "source": [
    "def getRxNorm(query_str):\n",
    "    query_str = [i.strip() for i in query_str.split(',')]\n",
    "    cui_name = {}\n",
    "    for q in query_str:\n",
    "        content = requests.get(f'https://rxnav.nlm.nih.gov/REST/drugs.json?name={q}').json()\n",
    "        for i in content['drugGroup']['conceptGroup']:\n",
    "            try: \n",
    "                for j in i['conceptProperties']:\n",
    "                    # cui_name.append([j['rxcui'], j['name']])\n",
    "                    cui_name[j['rxcui']] = j['name']\n",
    "            except KeyError:\n",
    "                pass\n",
    "    return cui_name\n",
    "    \n",
    "rxnorm = getRxNorm('sildenafil, tylenol')"
   ]
  },
  {
   "cell_type": "markdown",
   "metadata": {},
   "source": [
    "## FDA API"
   ]
  },
  {
   "cell_type": "code",
   "execution_count": 5,
   "metadata": {},
   "outputs": [],
   "source": [
    "# count patient sex\n",
    "# https://api.fda.gov/drug/event.json?search=patient.drug.openfda.rxcui:%22207106%22&count=patient.patientsex\n",
    "\n",
    "# count patient onstage age\n",
    "# https://api.fda.gov/drug/event.json?search=patient.drug.openfda.rxcui:%22207106%22&count=patient.patientonsetage"
   ]
  },
  {
   "cell_type": "code",
   "execution_count": 6,
   "metadata": {},
   "outputs": [],
   "source": [
    "def getFda(query_cui):\n",
    "    content = requests.get('https://api.fda.gov/drug/event.json?search=patient.drug.openfda.rxcui:\\'581645\\'').json()"
   ]
  },
  {
   "cell_type": "code",
   "execution_count": 7,
   "metadata": {},
   "outputs": [],
   "source": [
    "content = requests.get('https://api.fda.gov/drug/event.json?search=patient.drug.openfda.rxcui:\\'581645\\'').json()"
   ]
  },
  {
   "cell_type": "code",
   "execution_count": 8,
   "metadata": {},
   "outputs": [
    {
     "data": {
      "text/plain": [
       "{'meta': {'disclaimer': 'Do not rely on openFDA to make decisions regarding medical care. While we make every effort to ensure that data is accurate, you should assume all results are unvalidated. We may limit or otherwise restrict your access to the API in line with our Terms of Service.',\n",
       "  'terms': 'https://open.fda.gov/terms/',\n",
       "  'license': 'https://open.fda.gov/license/',\n",
       "  'last_updated': '2023-11-09',\n",
       "  'results': {'skip': 0, 'limit': 1, 'total': 46966}},\n",
       " 'results': [{'safetyreportversion': '3',\n",
       "   'safetyreportid': '10003419',\n",
       "   'primarysourcecountry': 'US',\n",
       "   'occurcountry': 'US',\n",
       "   'transmissiondateformat': '102',\n",
       "   'transmissiondate': '20151125',\n",
       "   'reporttype': '1',\n",
       "   'serious': '2',\n",
       "   'receivedateformat': '102',\n",
       "   'receivedate': '20140312',\n",
       "   'receiptdateformat': '102',\n",
       "   'receiptdate': '20150812',\n",
       "   'fulfillexpeditecriteria': '2',\n",
       "   'companynumb': 'US-GILEAD-2012-0062200',\n",
       "   'duplicate': '1',\n",
       "   'reportduplicate': {'duplicatesource': 'GILEAD',\n",
       "    'duplicatenumb': 'US-GILEAD-2012-0062200'},\n",
       "   'primarysource': {'reportercountry': 'US', 'qualification': '3'},\n",
       "   'sender': {'sendertype': '2', 'senderorganization': 'FDA-Public Use'},\n",
       "   'receiver': {'receivertype': '6', 'receiverorganization': 'FDA'},\n",
       "   'patient': {'patientonsetage': '75',\n",
       "    'patientonsetageunit': '801',\n",
       "    'patientagegroup': '6',\n",
       "    'patientsex': '2',\n",
       "    'reaction': [{'reactionmeddraversionpt': '18.1',\n",
       "      'reactionmeddrapt': 'Anaemia',\n",
       "      'reactionoutcome': '6'},\n",
       "     {'reactionmeddraversionpt': '18.1',\n",
       "      'reactionmeddrapt': 'Fatigue',\n",
       "      'reactionoutcome': '6'},\n",
       "     {'reactionmeddraversionpt': '18.1',\n",
       "      'reactionmeddrapt': 'Fibrosis',\n",
       "      'reactionoutcome': '6'},\n",
       "     {'reactionmeddraversionpt': '18.1',\n",
       "      'reactionmeddrapt': 'Dyspnoea',\n",
       "      'reactionoutcome': '3'},\n",
       "     {'reactionmeddraversionpt': '18.1',\n",
       "      'reactionmeddrapt': 'Weight decreased',\n",
       "      'reactionoutcome': '6'}],\n",
       "    'drug': [{'drugcharacterization': '1',\n",
       "      'medicinalproduct': 'LETAIRIS',\n",
       "      'drugbatchnumb': 'GKZV',\n",
       "      'drugauthorizationnumb': '022081',\n",
       "      'drugstructuredosagenumb': '10',\n",
       "      'drugstructuredosageunit': '003',\n",
       "      'drugseparatedosagenumb': '1',\n",
       "      'drugintervaldosageunitnumb': '1',\n",
       "      'drugintervaldosagedefinition': '804',\n",
       "      'drugdosagetext': '10 MG, UNK',\n",
       "      'drugdosageform': 'TABLET',\n",
       "      'drugadministrationroute': '048',\n",
       "      'drugindication': 'PULMONARY ARTERIAL HYPERTENSION',\n",
       "      'drugstartdateformat': '102',\n",
       "      'drugstartdate': '20110112',\n",
       "      'actiondrug': '4',\n",
       "      'activesubstance': {'activesubstancename': 'AMBRISENTAN'},\n",
       "      'openfda': {'application_number': ['NDA022081'],\n",
       "       'brand_name': ['LETAIRIS'],\n",
       "       'generic_name': ['AMBRISENTAN'],\n",
       "       'manufacturer_name': ['Gilead Sciences, Inc'],\n",
       "       'product_ndc': ['61958-0801', '61958-0802'],\n",
       "       'product_type': ['HUMAN PRESCRIPTION DRUG'],\n",
       "       'route': ['ORAL'],\n",
       "       'substance_name': ['AMBRISENTAN'],\n",
       "       'rxcui': ['722116', '722120', '722122', '722124'],\n",
       "       'spl_id': ['b6b19f3a-0619-cb36-e053-2995a90a5254'],\n",
       "       'spl_set_id': ['725d4e73-6c83-477a-adc6-0ae4a133a844'],\n",
       "       'package_ndc': ['61958-0801-2',\n",
       "        '61958-0801-3',\n",
       "        '61958-0801-1',\n",
       "        '61958-0801-5',\n",
       "        '61958-0801-4',\n",
       "        '61958-0801-6',\n",
       "        '61958-0802-2',\n",
       "        '61958-0802-3',\n",
       "        '61958-0802-1',\n",
       "        '61958-0802-5'],\n",
       "       'nui': ['N0000175581', 'N0000175364'],\n",
       "       'pharm_class_epc': ['Endothelin Receptor Antagonist [EPC]'],\n",
       "       'pharm_class_moa': ['Endothelin Receptor Antagonists [MoA]'],\n",
       "       'unii': ['HW6NV07QEC']}},\n",
       "     {'drugcharacterization': '2',\n",
       "      'medicinalproduct': 'REVATIO',\n",
       "      'activesubstance': {'activesubstancename': 'SILDENAFIL CITRATE'},\n",
       "      'openfda': {'application_number': ['NDA203109',\n",
       "        'NDA022473',\n",
       "        'NDA021845'],\n",
       "       'brand_name': ['REVATIO'],\n",
       "       'generic_name': ['SILDENAFIL CITRATE'],\n",
       "       'manufacturer_name': ['PFIZER LABORATORIES DIV PFIZER INC'],\n",
       "       'product_ndc': ['0069-0336', '0069-4190', '0069-0338'],\n",
       "       'product_type': ['HUMAN PRESCRIPTION DRUG'],\n",
       "       'route': ['ORAL', 'INTRAVENOUS'],\n",
       "       'substance_name': ['SILDENAFIL CITRATE'],\n",
       "       'rxcui': ['577033', '581645', '882527', '882530', '1307427', '1307431'],\n",
       "       'spl_id': ['c74907a0-9727-4683-8aef-d2312b3afa6b'],\n",
       "       'spl_set_id': ['f158fe10-d5dc-4432-b2c9-fc665401291b'],\n",
       "       'package_ndc': ['0069-4190-68', '0069-0338-01', '0069-0336-21'],\n",
       "       'unii': ['BW9B0ZE037']}}],\n",
       "    'summary': {'narrativeincludeclinical': 'CASE EVENT DATE: 201206'}}}]}"
      ]
     },
     "execution_count": 8,
     "metadata": {},
     "output_type": "execute_result"
    }
   ],
   "source": [
    "content"
   ]
  },
  {
   "cell_type": "markdown",
   "metadata": {},
   "source": [
    "## RXInteraction"
   ]
  },
  {
   "cell_type": "code",
   "execution_count": 9,
   "metadata": {},
   "outputs": [],
   "source": [
    "content = requests.get('https://rxnav.nlm.nih.gov/REST/interaction/list.json?rxcuis=207106+152923+656659+828557+828555+209387+1738139').json()"
   ]
  },
  {
   "cell_type": "code",
   "execution_count": 10,
   "metadata": {},
   "outputs": [
    {
     "data": {
      "text/plain": [
       "{'nlmDisclaimer': 'It is not the intention of NLM to provide specific medical advice, but rather to provide users with information to better understand their health and their medications. NLM urges you to consult with a qualified physician for advice about medications.',\n",
       " 'fullInteractionTypeGroup': [{'sourceDisclaimer': 'DrugBank is intended for educational and scientific research purposes only and you expressly acknowledge and agree that use of DrugBank is at your sole risk. The accuracy of DrugBank information is not guaranteed and reliance on DrugBank shall be at your sole risk. DrugBank is not intended as a substitute for professional medical advice, diagnosis or treatment..[www.drugbank.ca]',\n",
       "   'sourceName': 'DrugBank',\n",
       "   'fullInteractionType': [{'comment': 'Drug1 (rxcui = 1738139, name = acetaminophen 325 MG Oral Capsule [Tylenol], tty = SBD). Drug2 (rxcui = 207106, name = fluconazole 50 MG Oral Tablet [Diflucan], tty = SBD). Drug1 is resolved to acetaminophen, Drug2 is resolved to fluconazole and interaction asserted in DrugBank between Acetaminophen and Fluconazole.',\n",
       "     'minConcept': [{'rxcui': '1738139',\n",
       "       'name': 'acetaminophen 325 MG Oral Capsule [Tylenol]',\n",
       "       'tty': 'SBD'},\n",
       "      {'rxcui': '207106',\n",
       "       'name': 'fluconazole 50 MG Oral Tablet [Diflucan]',\n",
       "       'tty': 'SBD'}],\n",
       "     'interactionPair': [{'interactionConcept': [{'minConceptItem': {'rxcui': '161',\n",
       "          'name': 'acetaminophen',\n",
       "          'tty': 'IN'},\n",
       "         'sourceConceptItem': {'id': 'DB00316',\n",
       "          'name': 'Acetaminophen',\n",
       "          'url': 'https://go.drugbank.com/drugs/DB00316#interactions'}},\n",
       "        {'minConceptItem': {'rxcui': '4450',\n",
       "          'name': 'fluconazole',\n",
       "          'tty': 'IN'},\n",
       "         'sourceConceptItem': {'id': 'DB00196',\n",
       "          'name': 'Fluconazole',\n",
       "          'url': 'https://go.drugbank.com/drugs/DB00196#interactions'}}],\n",
       "       'severity': 'N/A',\n",
       "       'description': 'The metabolism of Acetaminophen can be decreased when combined with Fluconazole.'}]},\n",
       "    {'comment': 'Drug1 (rxcui = 152923, name = simvastatin 40 MG Oral Tablet [Zocor], tty = SBD). Drug2 (rxcui = 828555, name = acetaminophen 32 MG/ML Oral Suspension [Tylenol], tty = SBD). Drug1 is resolved to simvastatin, Drug2 is resolved to acetaminophen and interaction asserted in DrugBank between Simvastatin and Acetaminophen.',\n",
       "     'minConcept': [{'rxcui': '152923',\n",
       "       'name': 'simvastatin 40 MG Oral Tablet [Zocor]',\n",
       "       'tty': 'SBD'},\n",
       "      {'rxcui': '828555',\n",
       "       'name': 'acetaminophen 32 MG/ML Oral Suspension [Tylenol]',\n",
       "       'tty': 'SBD'}],\n",
       "     'interactionPair': [{'interactionConcept': [{'minConceptItem': {'rxcui': '36567',\n",
       "          'name': 'simvastatin',\n",
       "          'tty': 'IN'},\n",
       "         'sourceConceptItem': {'id': 'DB00641',\n",
       "          'name': 'Simvastatin',\n",
       "          'url': 'https://go.drugbank.com/drugs/DB00641#interactions'}},\n",
       "        {'minConceptItem': {'rxcui': '161',\n",
       "          'name': 'acetaminophen',\n",
       "          'tty': 'IN'},\n",
       "         'sourceConceptItem': {'id': 'DB00316',\n",
       "          'name': 'Acetaminophen',\n",
       "          'url': 'https://go.drugbank.com/drugs/DB00316#interactions'}}],\n",
       "       'severity': 'N/A',\n",
       "       'description': 'The metabolism of Simvastatin can be decreased when combined with Acetaminophen.'}]},\n",
       "    {'comment': 'Drug1 (rxcui = 152923, name = simvastatin 40 MG Oral Tablet [Zocor], tty = SBD). Drug2 (rxcui = 656659, name = bosentan 125 MG Oral Tablet, tty = SCD). Drug1 is resolved to simvastatin, Drug2 is resolved to bosentan and interaction asserted in DrugBank between Simvastatin and Bosentan. Drug1 is resolved to simvastatin, Drug2 is resolved to bosentan anhydrous and interaction asserted in DrugBank between Simvastatin and Bosentan.',\n",
       "     'minConcept': [{'rxcui': '152923',\n",
       "       'name': 'simvastatin 40 MG Oral Tablet [Zocor]',\n",
       "       'tty': 'SBD'},\n",
       "      {'rxcui': '656659',\n",
       "       'name': 'bosentan 125 MG Oral Tablet',\n",
       "       'tty': 'SCD'}],\n",
       "     'interactionPair': [{'interactionConcept': [{'minConceptItem': {'rxcui': '36567',\n",
       "          'name': 'simvastatin',\n",
       "          'tty': 'IN'},\n",
       "         'sourceConceptItem': {'id': 'DB00641',\n",
       "          'name': 'Simvastatin',\n",
       "          'url': 'https://go.drugbank.com/drugs/DB00641#interactions'}},\n",
       "        {'minConceptItem': {'rxcui': '1468845',\n",
       "          'name': 'bosentan anhydrous',\n",
       "          'tty': 'PIN'},\n",
       "         'sourceConceptItem': {'id': 'DB00559',\n",
       "          'name': 'Bosentan',\n",
       "          'url': 'https://go.drugbank.com/drugs/DB00559#interactions'}}],\n",
       "       'severity': 'N/A',\n",
       "       'description': 'The serum concentration of Simvastatin can be decreased when it is combined with Bosentan.'},\n",
       "      {'interactionConcept': [{'minConceptItem': {'rxcui': '36567',\n",
       "          'name': 'simvastatin',\n",
       "          'tty': 'IN'},\n",
       "         'sourceConceptItem': {'id': 'DB00641',\n",
       "          'name': 'Simvastatin',\n",
       "          'url': 'https://go.drugbank.com/drugs/DB00641#interactions'}},\n",
       "        {'minConceptItem': {'rxcui': '75207', 'name': 'bosentan', 'tty': 'IN'},\n",
       "         'sourceConceptItem': {'id': 'DB00559',\n",
       "          'name': 'Bosentan',\n",
       "          'url': 'https://go.drugbank.com/drugs/DB00559#interactions'}}],\n",
       "       'severity': 'N/A',\n",
       "       'description': 'The serum concentration of Simvastatin can be decreased when it is combined with Bosentan.'}]},\n",
       "    {'comment': 'Drug1 (rxcui = 207106, name = fluconazole 50 MG Oral Tablet [Diflucan], tty = SBD). Drug2 (rxcui = 828557, name = acetaminophen 160 MG Chewable Tablet [Tylenol], tty = SBD). Drug1 is resolved to fluconazole, Drug2 is resolved to acetaminophen and interaction asserted in DrugBank between Fluconazole and Acetaminophen.',\n",
       "     'minConcept': [{'rxcui': '207106',\n",
       "       'name': 'fluconazole 50 MG Oral Tablet [Diflucan]',\n",
       "       'tty': 'SBD'},\n",
       "      {'rxcui': '828557',\n",
       "       'name': 'acetaminophen 160 MG Chewable Tablet [Tylenol]',\n",
       "       'tty': 'SBD'}],\n",
       "     'interactionPair': [{'interactionConcept': [{'minConceptItem': {'rxcui': '4450',\n",
       "          'name': 'fluconazole',\n",
       "          'tty': 'IN'},\n",
       "         'sourceConceptItem': {'id': 'DB00196',\n",
       "          'name': 'Fluconazole',\n",
       "          'url': 'https://go.drugbank.com/drugs/DB00196#interactions'}},\n",
       "        {'minConceptItem': {'rxcui': '161',\n",
       "          'name': 'acetaminophen',\n",
       "          'tty': 'IN'},\n",
       "         'sourceConceptItem': {'id': 'DB00316',\n",
       "          'name': 'Acetaminophen',\n",
       "          'url': 'https://go.drugbank.com/drugs/DB00316#interactions'}}],\n",
       "       'severity': 'N/A',\n",
       "       'description': 'The metabolism of Acetaminophen can be decreased when combined with Fluconazole.'}]},\n",
       "    {'comment': 'Drug1 (rxcui = 207106, name = fluconazole 50 MG Oral Tablet [Diflucan], tty = SBD). Drug2 (rxcui = 209387, name = acetaminophen 325 MG Oral Tablet [Tylenol], tty = SBD). Drug1 is resolved to fluconazole, Drug2 is resolved to acetaminophen and interaction asserted in DrugBank between Fluconazole and Acetaminophen.',\n",
       "     'minConcept': [{'rxcui': '207106',\n",
       "       'name': 'fluconazole 50 MG Oral Tablet [Diflucan]',\n",
       "       'tty': 'SBD'},\n",
       "      {'rxcui': '209387',\n",
       "       'name': 'acetaminophen 325 MG Oral Tablet [Tylenol]',\n",
       "       'tty': 'SBD'}],\n",
       "     'interactionPair': [{'interactionConcept': [{'minConceptItem': {'rxcui': '4450',\n",
       "          'name': 'fluconazole',\n",
       "          'tty': 'IN'},\n",
       "         'sourceConceptItem': {'id': 'DB00196',\n",
       "          'name': 'Fluconazole',\n",
       "          'url': 'https://go.drugbank.com/drugs/DB00196#interactions'}},\n",
       "        {'minConceptItem': {'rxcui': '161',\n",
       "          'name': 'acetaminophen',\n",
       "          'tty': 'IN'},\n",
       "         'sourceConceptItem': {'id': 'DB00316',\n",
       "          'name': 'Acetaminophen',\n",
       "          'url': 'https://go.drugbank.com/drugs/DB00316#interactions'}}],\n",
       "       'severity': 'N/A',\n",
       "       'description': 'The metabolism of Acetaminophen can be decreased when combined with Fluconazole.'}]},\n",
       "    {'comment': 'Drug1 (rxcui = 152923, name = simvastatin 40 MG Oral Tablet [Zocor], tty = SBD). Drug2 (rxcui = 207106, name = fluconazole 50 MG Oral Tablet [Diflucan], tty = SBD). Drug1 is resolved to simvastatin, Drug2 is resolved to fluconazole and interaction asserted in DrugBank between Simvastatin and Fluconazole.',\n",
       "     'minConcept': [{'rxcui': '152923',\n",
       "       'name': 'simvastatin 40 MG Oral Tablet [Zocor]',\n",
       "       'tty': 'SBD'},\n",
       "      {'rxcui': '207106',\n",
       "       'name': 'fluconazole 50 MG Oral Tablet [Diflucan]',\n",
       "       'tty': 'SBD'}],\n",
       "     'interactionPair': [{'interactionConcept': [{'minConceptItem': {'rxcui': '36567',\n",
       "          'name': 'simvastatin',\n",
       "          'tty': 'IN'},\n",
       "         'sourceConceptItem': {'id': 'DB00641',\n",
       "          'name': 'Simvastatin',\n",
       "          'url': 'https://go.drugbank.com/drugs/DB00641#interactions'}},\n",
       "        {'minConceptItem': {'rxcui': '4450',\n",
       "          'name': 'fluconazole',\n",
       "          'tty': 'IN'},\n",
       "         'sourceConceptItem': {'id': 'DB00196',\n",
       "          'name': 'Fluconazole',\n",
       "          'url': 'https://go.drugbank.com/drugs/DB00196#interactions'}}],\n",
       "       'severity': 'N/A',\n",
       "       'description': 'The metabolism of Simvastatin can be decreased when combined with Fluconazole.'}]},\n",
       "    {'comment': 'Drug1 (rxcui = 207106, name = fluconazole 50 MG Oral Tablet [Diflucan], tty = SBD). Drug2 (rxcui = 656659, name = bosentan 125 MG Oral Tablet, tty = SCD). Drug1 is resolved to fluconazole, Drug2 is resolved to bosentan and interaction asserted in DrugBank between Fluconazole and Bosentan. Drug1 is resolved to fluconazole, Drug2 is resolved to bosentan anhydrous and interaction asserted in DrugBank between Fluconazole and Bosentan.',\n",
       "     'minConcept': [{'rxcui': '207106',\n",
       "       'name': 'fluconazole 50 MG Oral Tablet [Diflucan]',\n",
       "       'tty': 'SBD'},\n",
       "      {'rxcui': '656659',\n",
       "       'name': 'bosentan 125 MG Oral Tablet',\n",
       "       'tty': 'SCD'}],\n",
       "     'interactionPair': [{'interactionConcept': [{'minConceptItem': {'rxcui': '4450',\n",
       "          'name': 'fluconazole',\n",
       "          'tty': 'IN'},\n",
       "         'sourceConceptItem': {'id': 'DB00196',\n",
       "          'name': 'Fluconazole',\n",
       "          'url': 'https://go.drugbank.com/drugs/DB00196#interactions'}},\n",
       "        {'minConceptItem': {'rxcui': '1468845',\n",
       "          'name': 'bosentan anhydrous',\n",
       "          'tty': 'PIN'},\n",
       "         'sourceConceptItem': {'id': 'DB00559',\n",
       "          'name': 'Bosentan',\n",
       "          'url': 'https://go.drugbank.com/drugs/DB00559#interactions'}}],\n",
       "       'severity': 'N/A',\n",
       "       'description': 'The metabolism of Bosentan can be decreased when combined with Fluconazole.'},\n",
       "      {'interactionConcept': [{'minConceptItem': {'rxcui': '4450',\n",
       "          'name': 'fluconazole',\n",
       "          'tty': 'IN'},\n",
       "         'sourceConceptItem': {'id': 'DB00196',\n",
       "          'name': 'Fluconazole',\n",
       "          'url': 'https://go.drugbank.com/drugs/DB00196#interactions'}},\n",
       "        {'minConceptItem': {'rxcui': '75207', 'name': 'bosentan', 'tty': 'IN'},\n",
       "         'sourceConceptItem': {'id': 'DB00559',\n",
       "          'name': 'Bosentan',\n",
       "          'url': 'https://go.drugbank.com/drugs/DB00559#interactions'}}],\n",
       "       'severity': 'N/A',\n",
       "       'description': 'The metabolism of Bosentan can be decreased when combined with Fluconazole.'}]},\n",
       "    {'comment': 'Drug1 (rxcui = 152923, name = simvastatin 40 MG Oral Tablet [Zocor], tty = SBD). Drug2 (rxcui = 828557, name = acetaminophen 160 MG Chewable Tablet [Tylenol], tty = SBD). Drug1 is resolved to simvastatin, Drug2 is resolved to acetaminophen and interaction asserted in DrugBank between Simvastatin and Acetaminophen.',\n",
       "     'minConcept': [{'rxcui': '152923',\n",
       "       'name': 'simvastatin 40 MG Oral Tablet [Zocor]',\n",
       "       'tty': 'SBD'},\n",
       "      {'rxcui': '828557',\n",
       "       'name': 'acetaminophen 160 MG Chewable Tablet [Tylenol]',\n",
       "       'tty': 'SBD'}],\n",
       "     'interactionPair': [{'interactionConcept': [{'minConceptItem': {'rxcui': '36567',\n",
       "          'name': 'simvastatin',\n",
       "          'tty': 'IN'},\n",
       "         'sourceConceptItem': {'id': 'DB00641',\n",
       "          'name': 'Simvastatin',\n",
       "          'url': 'https://go.drugbank.com/drugs/DB00641#interactions'}},\n",
       "        {'minConceptItem': {'rxcui': '161',\n",
       "          'name': 'acetaminophen',\n",
       "          'tty': 'IN'},\n",
       "         'sourceConceptItem': {'id': 'DB00316',\n",
       "          'name': 'Acetaminophen',\n",
       "          'url': 'https://go.drugbank.com/drugs/DB00316#interactions'}}],\n",
       "       'severity': 'N/A',\n",
       "       'description': 'The metabolism of Simvastatin can be decreased when combined with Acetaminophen.'}]},\n",
       "    {'comment': 'Drug1 (rxcui = 207106, name = fluconazole 50 MG Oral Tablet [Diflucan], tty = SBD). Drug2 (rxcui = 828555, name = acetaminophen 32 MG/ML Oral Suspension [Tylenol], tty = SBD). Drug1 is resolved to fluconazole, Drug2 is resolved to acetaminophen and interaction asserted in DrugBank between Fluconazole and Acetaminophen.',\n",
       "     'minConcept': [{'rxcui': '207106',\n",
       "       'name': 'fluconazole 50 MG Oral Tablet [Diflucan]',\n",
       "       'tty': 'SBD'},\n",
       "      {'rxcui': '828555',\n",
       "       'name': 'acetaminophen 32 MG/ML Oral Suspension [Tylenol]',\n",
       "       'tty': 'SBD'}],\n",
       "     'interactionPair': [{'interactionConcept': [{'minConceptItem': {'rxcui': '4450',\n",
       "          'name': 'fluconazole',\n",
       "          'tty': 'IN'},\n",
       "         'sourceConceptItem': {'id': 'DB00196',\n",
       "          'name': 'Fluconazole',\n",
       "          'url': 'https://go.drugbank.com/drugs/DB00196#interactions'}},\n",
       "        {'minConceptItem': {'rxcui': '161',\n",
       "          'name': 'acetaminophen',\n",
       "          'tty': 'IN'},\n",
       "         'sourceConceptItem': {'id': 'DB00316',\n",
       "          'name': 'Acetaminophen',\n",
       "          'url': 'https://go.drugbank.com/drugs/DB00316#interactions'}}],\n",
       "       'severity': 'N/A',\n",
       "       'description': 'The metabolism of Acetaminophen can be decreased when combined with Fluconazole.'}]},\n",
       "    {'comment': 'Drug1 (rxcui = 152923, name = simvastatin 40 MG Oral Tablet [Zocor], tty = SBD). Drug2 (rxcui = 209387, name = acetaminophen 325 MG Oral Tablet [Tylenol], tty = SBD). Drug1 is resolved to simvastatin, Drug2 is resolved to acetaminophen and interaction asserted in DrugBank between Simvastatin and Acetaminophen.',\n",
       "     'minConcept': [{'rxcui': '152923',\n",
       "       'name': 'simvastatin 40 MG Oral Tablet [Zocor]',\n",
       "       'tty': 'SBD'},\n",
       "      {'rxcui': '209387',\n",
       "       'name': 'acetaminophen 325 MG Oral Tablet [Tylenol]',\n",
       "       'tty': 'SBD'}],\n",
       "     'interactionPair': [{'interactionConcept': [{'minConceptItem': {'rxcui': '36567',\n",
       "          'name': 'simvastatin',\n",
       "          'tty': 'IN'},\n",
       "         'sourceConceptItem': {'id': 'DB00641',\n",
       "          'name': 'Simvastatin',\n",
       "          'url': 'https://go.drugbank.com/drugs/DB00641#interactions'}},\n",
       "        {'minConceptItem': {'rxcui': '161',\n",
       "          'name': 'acetaminophen',\n",
       "          'tty': 'IN'},\n",
       "         'sourceConceptItem': {'id': 'DB00316',\n",
       "          'name': 'Acetaminophen',\n",
       "          'url': 'https://go.drugbank.com/drugs/DB00316#interactions'}}],\n",
       "       'severity': 'N/A',\n",
       "       'description': 'The metabolism of Simvastatin can be decreased when combined with Acetaminophen.'}]},\n",
       "    {'comment': 'Drug1 (rxcui = 152923, name = simvastatin 40 MG Oral Tablet [Zocor], tty = SBD). Drug2 (rxcui = 1738139, name = acetaminophen 325 MG Oral Capsule [Tylenol], tty = SBD). Drug1 is resolved to simvastatin, Drug2 is resolved to acetaminophen and interaction asserted in DrugBank between Simvastatin and Acetaminophen.',\n",
       "     'minConcept': [{'rxcui': '152923',\n",
       "       'name': 'simvastatin 40 MG Oral Tablet [Zocor]',\n",
       "       'tty': 'SBD'},\n",
       "      {'rxcui': '1738139',\n",
       "       'name': 'acetaminophen 325 MG Oral Capsule [Tylenol]',\n",
       "       'tty': 'SBD'}],\n",
       "     'interactionPair': [{'interactionConcept': [{'minConceptItem': {'rxcui': '36567',\n",
       "          'name': 'simvastatin',\n",
       "          'tty': 'IN'},\n",
       "         'sourceConceptItem': {'id': 'DB00641',\n",
       "          'name': 'Simvastatin',\n",
       "          'url': 'https://go.drugbank.com/drugs/DB00641#interactions'}},\n",
       "        {'minConceptItem': {'rxcui': '161',\n",
       "          'name': 'acetaminophen',\n",
       "          'tty': 'IN'},\n",
       "         'sourceConceptItem': {'id': 'DB00316',\n",
       "          'name': 'Acetaminophen',\n",
       "          'url': 'https://go.drugbank.com/drugs/DB00316#interactions'}}],\n",
       "       'severity': 'N/A',\n",
       "       'description': 'The metabolism of Simvastatin can be decreased when combined with Acetaminophen.'}]}]},\n",
       "  {'sourceDisclaimer': 'https://www.ncbi.nlm.nih.gov/pmc/articles/PMC3422823/',\n",
       "   'sourceName': 'ONCHigh',\n",
       "   'fullInteractionType': [{'comment': 'Drug1 (rxcui = 152923, name = simvastatin 40 MG Oral Tablet [Zocor], tty = SBD). Drug2 (rxcui = 207106, name = fluconazole 50 MG Oral Tablet [Diflucan], tty = SBD). Drug1 is resolved to simvastatin, Drug2 is resolved to fluconazole and interaction asserted in ONCHigh between simvastatin and fluconazole.',\n",
       "     'minConcept': [{'rxcui': '152923',\n",
       "       'name': 'simvastatin 40 MG Oral Tablet [Zocor]',\n",
       "       'tty': 'SBD'},\n",
       "      {'rxcui': '207106',\n",
       "       'name': 'fluconazole 50 MG Oral Tablet [Diflucan]',\n",
       "       'tty': 'SBD'}],\n",
       "     'interactionPair': [{'interactionConcept': [{'minConceptItem': {'rxcui': '36567',\n",
       "          'name': 'simvastatin',\n",
       "          'tty': 'IN'},\n",
       "         'sourceConceptItem': {'id': 'NA',\n",
       "          'name': 'simvastatin',\n",
       "          'url': 'NA'}},\n",
       "        {'minConceptItem': {'rxcui': '4450',\n",
       "          'name': 'fluconazole',\n",
       "          'tty': 'IN'},\n",
       "         'sourceConceptItem': {'id': 'NA',\n",
       "          'name': 'fluconazole',\n",
       "          'url': 'NA'}}],\n",
       "       'severity': 'high',\n",
       "       'description': 'HMG Co-A reductase inhibitors - CYP3A4 inhibitors'}]}]}]}"
      ]
     },
     "execution_count": 10,
     "metadata": {},
     "output_type": "execute_result"
    }
   ],
   "source": [
    "content"
   ]
  },
  {
   "cell_type": "code",
   "execution_count": 11,
   "metadata": {},
   "outputs": [
    {
     "name": "stdout",
     "output_type": "stream",
     "text": [
      "DrugBank 1738139 acetaminophen 325 MG Oral Capsule [Tylenol] 207106 fluconazole 50 MG Oral Tablet [Diflucan] N/A The metabolism of Acetaminophen can be decreased when combined with Fluconazole.\n",
      "DrugBank 152923 simvastatin 40 MG Oral Tablet [Zocor] 828555 acetaminophen 32 MG/ML Oral Suspension [Tylenol] N/A The metabolism of Simvastatin can be decreased when combined with Acetaminophen.\n",
      "DrugBank 152923 simvastatin 40 MG Oral Tablet [Zocor] 656659 bosentan 125 MG Oral Tablet N/A The serum concentration of Simvastatin can be decreased when it is combined with Bosentan.\n",
      "DrugBank 207106 fluconazole 50 MG Oral Tablet [Diflucan] 828557 acetaminophen 160 MG Chewable Tablet [Tylenol] N/A The metabolism of Acetaminophen can be decreased when combined with Fluconazole.\n",
      "DrugBank 207106 fluconazole 50 MG Oral Tablet [Diflucan] 209387 acetaminophen 325 MG Oral Tablet [Tylenol] N/A The metabolism of Acetaminophen can be decreased when combined with Fluconazole.\n",
      "DrugBank 152923 simvastatin 40 MG Oral Tablet [Zocor] 207106 fluconazole 50 MG Oral Tablet [Diflucan] N/A The metabolism of Simvastatin can be decreased when combined with Fluconazole.\n",
      "DrugBank 207106 fluconazole 50 MG Oral Tablet [Diflucan] 656659 bosentan 125 MG Oral Tablet N/A The metabolism of Bosentan can be decreased when combined with Fluconazole.\n",
      "DrugBank 152923 simvastatin 40 MG Oral Tablet [Zocor] 828557 acetaminophen 160 MG Chewable Tablet [Tylenol] N/A The metabolism of Simvastatin can be decreased when combined with Acetaminophen.\n",
      "DrugBank 207106 fluconazole 50 MG Oral Tablet [Diflucan] 828555 acetaminophen 32 MG/ML Oral Suspension [Tylenol] N/A The metabolism of Acetaminophen can be decreased when combined with Fluconazole.\n",
      "DrugBank 152923 simvastatin 40 MG Oral Tablet [Zocor] 209387 acetaminophen 325 MG Oral Tablet [Tylenol] N/A The metabolism of Simvastatin can be decreased when combined with Acetaminophen.\n",
      "DrugBank 152923 simvastatin 40 MG Oral Tablet [Zocor] 1738139 acetaminophen 325 MG Oral Capsule [Tylenol] N/A The metabolism of Simvastatin can be decreased when combined with Acetaminophen.\n",
      "ONCHigh 152923 simvastatin 40 MG Oral Tablet [Zocor] 207106 fluconazole 50 MG Oral Tablet [Diflucan] high HMG Co-A reductase inhibitors - CYP3A4 inhibitors\n"
     ]
    }
   ],
   "source": [
    "for i in content['fullInteractionTypeGroup']:\n",
    "    for j in i['fullInteractionType']:\n",
    "        print(i['sourceName'],\n",
    "              j['minConcept'][0]['rxcui'],\n",
    "              j['minConcept'][0]['name'],\n",
    "              j['minConcept'][1]['rxcui'],\n",
    "              j['minConcept'][1]['name'],\n",
    "              j['interactionPair'][0]['severity'],  \n",
    "              j['interactionPair'][0]['description'])"
   ]
  },
  {
   "cell_type": "markdown",
   "metadata": {},
   "source": [
    "## Graph"
   ]
  },
  {
   "cell_type": "code",
   "execution_count": 12,
   "metadata": {},
   "outputs": [
    {
     "name": "stdout",
     "output_type": "stream",
     "text": [
      "207106 and 1738139 has interaction \"The metabolism of Acetaminophen can be decreased when combined with Fluconazole.\"\n",
      "207106 and 828557 has interaction \"The metabolism of Acetaminophen can be decreased when combined with Fluconazole.\"\n",
      "207106 and 209387 has interaction \"The metabolism of Acetaminophen can be decreased when combined with Fluconazole.\"\n",
      "207106 and 152923 has interaction \"HMG Co-A reductase inhibitors - CYP3A4 inhibitors\"\n",
      "207106 and 656659 has interaction \"The metabolism of Bosentan can be decreased when combined with Fluconazole.\"\n",
      "207106 and 828555 has interaction \"The metabolism of Acetaminophen can be decreased when combined with Fluconazole.\"\n",
      "\n"
     ]
    }
   ],
   "source": [
    "class Edge:\n",
    "    def __init__(self, src, dest, source, severity, additional_info):\n",
    "        self.src = src # source\n",
    "        self.dest = dest # destination \n",
    "        self.source = source  # source of info\n",
    "        self.severity = severity  # severity of interaction\n",
    "        self.additional_info = additional_info  # description of interaction\n",
    "\n",
    "    def __str__(self):\n",
    "        return f\"{self.src.id} and {self.dest.id} has interaction \\\"{self.additional_info}\\\"\\n\"\n",
    "\n",
    "class Vertex:\n",
    "    def __init__(self, value, name):\n",
    "        self.id = value # RxNorm CUI\n",
    "        # TODO: Name\n",
    "        self.name = name\n",
    "        # TODO: User choices - implemented patient sex agg. only\n",
    "        # self.reaction_sex = reaction_sex\n",
    "\n",
    "        self.connectedTo = {}  # Key: Vertex, Value: Edge\n",
    "\n",
    "    def __str__(self):\n",
    "        return f\"{''.join([str(edge) for edge in self.connectedTo.values()])}\"\n",
    "\n",
    "    def add_neighbor(self, nbr, edge):\n",
    "        self.connectedTo[nbr] = edge\n",
    "\n",
    "class Graph:\n",
    "    def __init__(self):\n",
    "        self.vert_list = {}  # vertices\n",
    "        self.num_vertices = 0\n",
    "\n",
    "    def add_vertex(self, key, name):\n",
    "        self.num_vertices += 1\n",
    "        new_vertex = Vertex(key, name)\n",
    "        self.vert_list[key] = new_vertex\n",
    "        return new_vertex\n",
    "\n",
    "    def add_edge(self, f, f_name, t, t_name, source, severity, additional_info):\n",
    "        # vertex\n",
    "        if f not in self.vert_list:\n",
    "            self.add_vertex(f, f_name)\n",
    "        if t not in self.vert_list:\n",
    "            self.add_vertex(t, t_name)\n",
    "\n",
    "        # edge\n",
    "        edge = Edge(self.vert_list[f], self.vert_list[t], source, severity, additional_info)\n",
    "        self.vert_list[f].add_neighbor(self.vert_list[t], edge)\n",
    "        # construct undirected graph\n",
    "        reverse_edge = Edge(self.vert_list[t], self.vert_list[f], source, severity, additional_info)\n",
    "        self.vert_list[t].add_neighbor(self.vert_list[f], reverse_edge)\n",
    "\n",
    "# Example usage\n",
    "graph = Graph()\n",
    "\n",
    "\n",
    "for i in content['fullInteractionTypeGroup']:\n",
    "    for j in i['fullInteractionType']:\n",
    "        graph.add_edge(\n",
    "            j['minConcept'][0]['rxcui'],\n",
    "            j['minConcept'][0]['name'],\n",
    "            j['minConcept'][1]['rxcui'],\n",
    "            j['minConcept'][1]['name'],\n",
    "            i['sourceName'],\n",
    "            j['interactionPair'][0]['severity'],\n",
    "            j['interactionPair'][0]['description']\n",
    "        )\n",
    "\n",
    "print(graph.vert_list[\"207106\"])"
   ]
  },
  {
   "cell_type": "code",
   "execution_count": 14,
   "metadata": {},
   "outputs": [
    {
     "data": {
      "image/png": "[encoded data removed]",
      "text/plain": [
       "<Figure size 640x480 with 1 Axes>"
      ]
     },
     "metadata": {},
     "output_type": "display_data"
    }
   ],
   "source": [
    "import networkx as nx\n",
    "import matplotlib.pyplot as plt\n",
    "import plotly\n",
    "\n",
    "def create_networkx_graph(g):\n",
    "    G = nx.Graph()\n",
    "    for vertex in g.vert_list.values():\n",
    "        for edge in vertex.connectedTo.values():\n",
    "            G.add_edge(edge.src.id, edge.dest.id)\n",
    "\n",
    "    pos = nx.spring_layout(G)  # positions for all nodes\n",
    "    nx.draw(G, pos, with_labels=True)\n",
    "    edge_labels = nx.get_edge_attributes(G, 'weight')\n",
    "    nx.draw_networkx_edge_labels(G, pos, edge_labels=edge_labels)\n",
    "    plt.title(\"Example Drug graph\")\n",
    "    plt.show()\n",
    "\n",
    "create_networkx_graph(graph)"
   ]
  },
  {
   "cell_type": "code",
   "execution_count": 29,
   "metadata": {},
   "outputs": [
    {
     "data": {
      "image/png": "[encoded data removed]",
      "text/plain": [
       "<Figure size 640x480 with 1 Axes>"
      ]
     },
     "metadata": {},
     "output_type": "display_data"
    }
   ],
   "source": [
    "G = nx.Graph()\n",
    "for vertex in graph.vert_list.values():\n",
    "    for edge in vertex.connectedTo.values():\n",
    "        G.add_edge(edge.src.id, edge.dest.id)\n",
    "\n",
    "pos = nx.spring_layout(G)  # positions for all nodes\n",
    "nx.draw(G, pos, with_labels=True)\n",
    "edge_labels = nx.get_edge_attributes(G, 'weight')\n",
    "nx.draw_networkx_edge_labels(G, pos, edge_labels=edge_labels)\n",
    "plt.title(\"Example Drug graph\")\n",
    "plt.show()"
   ]
  },
  {
   "cell_type": "code",
   "execution_count": 68,
   "metadata": {},
   "outputs": [
    {
     "data": {
      "application/vnd.plotly.v1+json": {
       "config": {
        "plotlyServerURL": "https://plot.ly"
       },
       "data": [
        {
         "hoverinfo": "text",
         "line": {
          "color": "#888",
          "width": 0.5
         },
         "mode": "lines",
         "type": "scatter",
         "x": [
          -1,
          -0.08238007462539507,
          null,
          -1,
          0.07520605316791318,
          null,
          -0.08238007462539507,
          0.7491891674787783,
          null,
          -0.08238007462539507,
          -0.22312680647626348,
          null,
          -0.08238007462539507,
          0.07520605316791318,
          null,
          -0.08238007462539507,
          -0.43436275233361804,
          null,
          -0.08238007462539507,
          0.9154744127885838,
          null,
          0.07520605316791318,
          0.9154744127885838,
          null,
          0.07520605316791318,
          -0.43436275233361804,
          null,
          0.07520605316791318,
          0.7491891674787783,
          null,
          0.07520605316791318,
          -0.22312680647626348,
          null
         ],
         "y": [
          -0.15354583880361167,
          0.1614658605172463,
          null,
          -0.15354583880361167,
          -0.16321901666493646,
          null,
          0.1614658605172463,
          0.6774179469998364,
          null,
          0.1614658605172463,
          -0.9873627855539622,
          null,
          0.1614658605172463,
          -0.16321901666493646,
          null,
          0.1614658605172463,
          0.9163414472843755,
          null,
          0.1614658605172463,
          -0.45109761377894797,
          null,
          -0.16321901666493646,
          -0.45109761377894797,
          null,
          -0.16321901666493646,
          0.9163414472843755,
          null,
          -0.16321901666493646,
          0.6774179469998364,
          null,
          -0.16321901666493646,
          -0.9873627855539622,
          null
         ]
        },
        {
         "hoverinfo": "text",
         "marker": {
          "color": [
           2,
           6,
           6,
           2,
           2,
           2,
           2
          ],
          "line": {
           "width": 2
          },
          "showscale": false,
          "size": 10
         },
         "mode": "markers",
         "text": [
          "RxCUI: 1738139<br># of connections: 2",
          "RxCUI: 207106<br># of connections: 6",
          "RxCUI: 152923<br># of connections: 6",
          "RxCUI: 828557<br># of connections: 2",
          "RxCUI: 209387<br># of connections: 2",
          "RxCUI: 656659<br># of connections: 2",
          "RxCUI: 828555<br># of connections: 2"
         ],
         "type": "scatter",
         "x": [
          -1,
          -0.08238007462539507,
          0.07520605316791318,
          0.7491891674787783,
          -0.22312680647626348,
          -0.43436275233361804,
          0.9154744127885838
         ],
         "y": [
          -0.15354583880361167,
          0.1614658605172463,
          -0.16321901666493646,
          0.6774179469998364,
          -0.9873627855539622,
          0.9163414472843755,
          -0.45109761377894797
         ]
        },
        {
         "hovertemplate": "%{hovertext}",
         "hovertext": [
          "RxCUI: 1738139, 207106<br>Severity: N/A<br>Rationale: The metabolism of Acetaminophen can be decreased when combined with Fluconazole.",
          "RxCUI: 1738139, 207106<br>Severity: N/A<br>Rationale: The metabolism of Acetaminophen can be decreased when combined with Fluconazole.",
          "RxCUI: 1738139, 207106<br>Severity: N/A<br>Rationale: The metabolism of Acetaminophen can be decreased when combined with Fluconazole.",
          "RxCUI: 1738139, 207106<br>Severity: N/A<br>Rationale: The metabolism of Acetaminophen can be decreased when combined with Fluconazole.",
          "RxCUI: 1738139, 207106<br>Severity: N/A<br>Rationale: The metabolism of Acetaminophen can be decreased when combined with Fluconazole.",
          "RxCUI: 1738139, 207106<br>Severity: N/A<br>Rationale: The metabolism of Acetaminophen can be decreased when combined with Fluconazole.",
          "RxCUI: 1738139, 207106<br>Severity: N/A<br>Rationale: The metabolism of Acetaminophen can be decreased when combined with Fluconazole.",
          "RxCUI: 1738139, 207106<br>Severity: N/A<br>Rationale: The metabolism of Acetaminophen can be decreased when combined with Fluconazole.",
          "RxCUI: 1738139, 207106<br>Severity: N/A<br>Rationale: The metabolism of Acetaminophen can be decreased when combined with Fluconazole.",
          "RxCUI: 1738139, 207106<br>Severity: N/A<br>Rationale: The metabolism of Acetaminophen can be decreased when combined with Fluconazole.",
          "RxCUI: 1738139, 207106<br>Severity: N/A<br>Rationale: The metabolism of Acetaminophen can be decreased when combined with Fluconazole.",
          "RxCUI: 1738139, 207106<br>Severity: N/A<br>Rationale: The metabolism of Acetaminophen can be decreased when combined with Fluconazole.",
          "RxCUI: 1738139, 207106<br>Severity: N/A<br>Rationale: The metabolism of Acetaminophen can be decreased when combined with Fluconazole.",
          "RxCUI: 1738139, 207106<br>Severity: N/A<br>Rationale: The metabolism of Acetaminophen can be decreased when combined with Fluconazole.",
          "RxCUI: 1738139, 207106<br>Severity: N/A<br>Rationale: The metabolism of Acetaminophen can be decreased when combined with Fluconazole.",
          "RxCUI: 1738139, 152923<br>Severity: N/A<br>Rationale: The metabolism of Simvastatin can be decreased when combined with Acetaminophen.",
          "RxCUI: 1738139, 152923<br>Severity: N/A<br>Rationale: The metabolism of Simvastatin can be decreased when combined with Acetaminophen.",
          "RxCUI: 1738139, 152923<br>Severity: N/A<br>Rationale: The metabolism of Simvastatin can be decreased when combined with Acetaminophen.",
          "RxCUI: 1738139, 152923<br>Severity: N/A<br>Rationale: The metabolism of Simvastatin can be decreased when combined with Acetaminophen.",
          "RxCUI: 1738139, 152923<br>Severity: N/A<br>Rationale: The metabolism of Simvastatin can be decreased when combined with Acetaminophen.",
          "RxCUI: 1738139, 152923<br>Severity: N/A<br>Rationale: The metabolism of Simvastatin can be decreased when combined with Acetaminophen.",
          "RxCUI: 1738139, 152923<br>Severity: N/A<br>Rationale: The metabolism of Simvastatin can be decreased when combined with Acetaminophen.",
          "RxCUI: 1738139, 152923<br>Severity: N/A<br>Rationale: The metabolism of Simvastatin can be decreased when combined with Acetaminophen.",
          "RxCUI: 1738139, 152923<br>Severity: N/A<br>Rationale: The metabolism of Simvastatin can be decreased when combined with Acetaminophen.",
          "RxCUI: 1738139, 152923<br>Severity: N/A<br>Rationale: The metabolism of Simvastatin can be decreased when combined with Acetaminophen.",
          "RxCUI: 1738139, 152923<br>Severity: N/A<br>Rationale: The metabolism of Simvastatin can be decreased when combined with Acetaminophen.",
          "RxCUI: 1738139, 152923<br>Severity: N/A<br>Rationale: The metabolism of Simvastatin can be decreased when combined with Acetaminophen.",
          "RxCUI: 1738139, 152923<br>Severity: N/A<br>Rationale: The metabolism of Simvastatin can be decreased when combined with Acetaminophen.",
          "RxCUI: 1738139, 152923<br>Severity: N/A<br>Rationale: The metabolism of Simvastatin can be decreased when combined with Acetaminophen.",
          "RxCUI: 1738139, 152923<br>Severity: N/A<br>Rationale: The metabolism of Simvastatin can be decreased when combined with Acetaminophen.",
          "RxCUI: 207106, 828557<br>Severity: N/A<br>Rationale: The metabolism of Acetaminophen can be decreased when combined with Fluconazole.",
          "RxCUI: 207106, 828557<br>Severity: N/A<br>Rationale: The metabolism of Acetaminophen can be decreased when combined with Fluconazole.",
          "RxCUI: 207106, 828557<br>Severity: N/A<br>Rationale: The metabolism of Acetaminophen can be decreased when combined with Fluconazole.",
          "RxCUI: 207106, 828557<br>Severity: N/A<br>Rationale: The metabolism of Acetaminophen can be decreased when combined with Fluconazole.",
          "RxCUI: 207106, 828557<br>Severity: N/A<br>Rationale: The metabolism of Acetaminophen can be decreased when combined with Fluconazole.",
          "RxCUI: 207106, 828557<br>Severity: N/A<br>Rationale: The metabolism of Acetaminophen can be decreased when combined with Fluconazole.",
          "RxCUI: 207106, 828557<br>Severity: N/A<br>Rationale: The metabolism of Acetaminophen can be decreased when combined with Fluconazole.",
          "RxCUI: 207106, 828557<br>Severity: N/A<br>Rationale: The metabolism of Acetaminophen can be decreased when combined with Fluconazole.",
          "RxCUI: 207106, 828557<br>Severity: N/A<br>Rationale: The metabolism of Acetaminophen can be decreased when combined with Fluconazole.",
          "RxCUI: 207106, 828557<br>Severity: N/A<br>Rationale: The metabolism of Acetaminophen can be decreased when combined with Fluconazole.",
          "RxCUI: 207106, 828557<br>Severity: N/A<br>Rationale: The metabolism of Acetaminophen can be decreased when combined with Fluconazole.",
          "RxCUI: 207106, 828557<br>Severity: N/A<br>Rationale: The metabolism of Acetaminophen can be decreased when combined with Fluconazole.",
          "RxCUI: 207106, 828557<br>Severity: N/A<br>Rationale: The metabolism of Acetaminophen can be decreased when combined with Fluconazole.",
          "RxCUI: 207106, 828557<br>Severity: N/A<br>Rationale: The metabolism of Acetaminophen can be decreased when combined with Fluconazole.",
          "RxCUI: 207106, 828557<br>Severity: N/A<br>Rationale: The metabolism of Acetaminophen can be decreased when combined with Fluconazole.",
          "RxCUI: 207106, 209387<br>Severity: N/A<br>Rationale: The metabolism of Acetaminophen can be decreased when combined with Fluconazole.",
          "RxCUI: 207106, 209387<br>Severity: N/A<br>Rationale: The metabolism of Acetaminophen can be decreased when combined with Fluconazole.",
          "RxCUI: 207106, 209387<br>Severity: N/A<br>Rationale: The metabolism of Acetaminophen can be decreased when combined with Fluconazole.",
          "RxCUI: 207106, 209387<br>Severity: N/A<br>Rationale: The metabolism of Acetaminophen can be decreased when combined with Fluconazole.",
          "RxCUI: 207106, 209387<br>Severity: N/A<br>Rationale: The metabolism of Acetaminophen can be decreased when combined with Fluconazole.",
          "RxCUI: 207106, 209387<br>Severity: N/A<br>Rationale: The metabolism of Acetaminophen can be decreased when combined with Fluconazole.",
          "RxCUI: 207106, 209387<br>Severity: N/A<br>Rationale: The metabolism of Acetaminophen can be decreased when combined with Fluconazole.",
          "RxCUI: 207106, 209387<br>Severity: N/A<br>Rationale: The metabolism of Acetaminophen can be decreased when combined with Fluconazole.",
          "RxCUI: 207106, 209387<br>Severity: N/A<br>Rationale: The metabolism of Acetaminophen can be decreased when combined with Fluconazole.",
          "RxCUI: 207106, 209387<br>Severity: N/A<br>Rationale: The metabolism of Acetaminophen can be decreased when combined with Fluconazole.",
          "RxCUI: 207106, 209387<br>Severity: N/A<br>Rationale: The metabolism of Acetaminophen can be decreased when combined with Fluconazole.",
          "RxCUI: 207106, 209387<br>Severity: N/A<br>Rationale: The metabolism of Acetaminophen can be decreased when combined with Fluconazole.",
          "RxCUI: 207106, 209387<br>Severity: N/A<br>Rationale: The metabolism of Acetaminophen can be decreased when combined with Fluconazole.",
          "RxCUI: 207106, 209387<br>Severity: N/A<br>Rationale: The metabolism of Acetaminophen can be decreased when combined with Fluconazole.",
          "RxCUI: 207106, 209387<br>Severity: N/A<br>Rationale: The metabolism of Acetaminophen can be decreased when combined with Fluconazole.",
          "RxCUI: 207106, 152923<br>Severity: high<br>Rationale: HMG Co-A reductase inhibitors - CYP3A4 inhibitors",
          "RxCUI: 207106, 152923<br>Severity: high<br>Rationale: HMG Co-A reductase inhibitors - CYP3A4 inhibitors",
          "RxCUI: 207106, 152923<br>Severity: high<br>Rationale: HMG Co-A reductase inhibitors - CYP3A4 inhibitors",
          "RxCUI: 207106, 152923<br>Severity: high<br>Rationale: HMG Co-A reductase inhibitors - CYP3A4 inhibitors",
          "RxCUI: 207106, 152923<br>Severity: high<br>Rationale: HMG Co-A reductase inhibitors - CYP3A4 inhibitors",
          "RxCUI: 207106, 152923<br>Severity: high<br>Rationale: HMG Co-A reductase inhibitors - CYP3A4 inhibitors",
          "RxCUI: 207106, 152923<br>Severity: high<br>Rationale: HMG Co-A reductase inhibitors - CYP3A4 inhibitors",
          "RxCUI: 207106, 152923<br>Severity: high<br>Rationale: HMG Co-A reductase inhibitors - CYP3A4 inhibitors",
          "RxCUI: 207106, 152923<br>Severity: high<br>Rationale: HMG Co-A reductase inhibitors - CYP3A4 inhibitors",
          "RxCUI: 207106, 152923<br>Severity: high<br>Rationale: HMG Co-A reductase inhibitors - CYP3A4 inhibitors",
          "RxCUI: 207106, 152923<br>Severity: high<br>Rationale: HMG Co-A reductase inhibitors - CYP3A4 inhibitors",
          "RxCUI: 207106, 152923<br>Severity: high<br>Rationale: HMG Co-A reductase inhibitors - CYP3A4 inhibitors",
          "RxCUI: 207106, 152923<br>Severity: high<br>Rationale: HMG Co-A reductase inhibitors - CYP3A4 inhibitors",
          "RxCUI: 207106, 152923<br>Severity: high<br>Rationale: HMG Co-A reductase inhibitors - CYP3A4 inhibitors",
          "RxCUI: 207106, 152923<br>Severity: high<br>Rationale: HMG Co-A reductase inhibitors - CYP3A4 inhibitors",
          "RxCUI: 207106, 656659<br>Severity: N/A<br>Rationale: The metabolism of Bosentan can be decreased when combined with Fluconazole.",
          "RxCUI: 207106, 656659<br>Severity: N/A<br>Rationale: The metabolism of Bosentan can be decreased when combined with Fluconazole.",
          "RxCUI: 207106, 656659<br>Severity: N/A<br>Rationale: The metabolism of Bosentan can be decreased when combined with Fluconazole.",
          "RxCUI: 207106, 656659<br>Severity: N/A<br>Rationale: The metabolism of Bosentan can be decreased when combined with Fluconazole.",
          "RxCUI: 207106, 656659<br>Severity: N/A<br>Rationale: The metabolism of Bosentan can be decreased when combined with Fluconazole.",
          "RxCUI: 207106, 656659<br>Severity: N/A<br>Rationale: The metabolism of Bosentan can be decreased when combined with Fluconazole.",
          "RxCUI: 207106, 656659<br>Severity: N/A<br>Rationale: The metabolism of Bosentan can be decreased when combined with Fluconazole.",
          "RxCUI: 207106, 656659<br>Severity: N/A<br>Rationale: The metabolism of Bosentan can be decreased when combined with Fluconazole.",
          "RxCUI: 207106, 656659<br>Severity: N/A<br>Rationale: The metabolism of Bosentan can be decreased when combined with Fluconazole.",
          "RxCUI: 207106, 656659<br>Severity: N/A<br>Rationale: The metabolism of Bosentan can be decreased when combined with Fluconazole.",
          "RxCUI: 207106, 656659<br>Severity: N/A<br>Rationale: The metabolism of Bosentan can be decreased when combined with Fluconazole.",
          "RxCUI: 207106, 656659<br>Severity: N/A<br>Rationale: The metabolism of Bosentan can be decreased when combined with Fluconazole.",
          "RxCUI: 207106, 656659<br>Severity: N/A<br>Rationale: The metabolism of Bosentan can be decreased when combined with Fluconazole.",
          "RxCUI: 207106, 656659<br>Severity: N/A<br>Rationale: The metabolism of Bosentan can be decreased when combined with Fluconazole.",
          "RxCUI: 207106, 656659<br>Severity: N/A<br>Rationale: The metabolism of Bosentan can be decreased when combined with Fluconazole.",
          "RxCUI: 207106, 828555<br>Severity: N/A<br>Rationale: The metabolism of Acetaminophen can be decreased when combined with Fluconazole.",
          "RxCUI: 207106, 828555<br>Severity: N/A<br>Rationale: The metabolism of Acetaminophen can be decreased when combined with Fluconazole.",
          "RxCUI: 207106, 828555<br>Severity: N/A<br>Rationale: The metabolism of Acetaminophen can be decreased when combined with Fluconazole.",
          "RxCUI: 207106, 828555<br>Severity: N/A<br>Rationale: The metabolism of Acetaminophen can be decreased when combined with Fluconazole.",
          "RxCUI: 207106, 828555<br>Severity: N/A<br>Rationale: The metabolism of Acetaminophen can be decreased when combined with Fluconazole.",
          "RxCUI: 207106, 828555<br>Severity: N/A<br>Rationale: The metabolism of Acetaminophen can be decreased when combined with Fluconazole.",
          "RxCUI: 207106, 828555<br>Severity: N/A<br>Rationale: The metabolism of Acetaminophen can be decreased when combined with Fluconazole.",
          "RxCUI: 207106, 828555<br>Severity: N/A<br>Rationale: The metabolism of Acetaminophen can be decreased when combined with Fluconazole.",
          "RxCUI: 207106, 828555<br>Severity: N/A<br>Rationale: The metabolism of Acetaminophen can be decreased when combined with Fluconazole.",
          "RxCUI: 207106, 828555<br>Severity: N/A<br>Rationale: The metabolism of Acetaminophen can be decreased when combined with Fluconazole.",
          "RxCUI: 207106, 828555<br>Severity: N/A<br>Rationale: The metabolism of Acetaminophen can be decreased when combined with Fluconazole.",
          "RxCUI: 207106, 828555<br>Severity: N/A<br>Rationale: The metabolism of Acetaminophen can be decreased when combined with Fluconazole.",
          "RxCUI: 207106, 828555<br>Severity: N/A<br>Rationale: The metabolism of Acetaminophen can be decreased when combined with Fluconazole.",
          "RxCUI: 207106, 828555<br>Severity: N/A<br>Rationale: The metabolism of Acetaminophen can be decreased when combined with Fluconazole.",
          "RxCUI: 207106, 828555<br>Severity: N/A<br>Rationale: The metabolism of Acetaminophen can be decreased when combined with Fluconazole.",
          "RxCUI: 152923, 828555<br>Severity: N/A<br>Rationale: The metabolism of Simvastatin can be decreased when combined with Acetaminophen.",
          "RxCUI: 152923, 828555<br>Severity: N/A<br>Rationale: The metabolism of Simvastatin can be decreased when combined with Acetaminophen.",
          "RxCUI: 152923, 828555<br>Severity: N/A<br>Rationale: The metabolism of Simvastatin can be decreased when combined with Acetaminophen.",
          "RxCUI: 152923, 828555<br>Severity: N/A<br>Rationale: The metabolism of Simvastatin can be decreased when combined with Acetaminophen.",
          "RxCUI: 152923, 828555<br>Severity: N/A<br>Rationale: The metabolism of Simvastatin can be decreased when combined with Acetaminophen.",
          "RxCUI: 152923, 828555<br>Severity: N/A<br>Rationale: The metabolism of Simvastatin can be decreased when combined with Acetaminophen.",
          "RxCUI: 152923, 828555<br>Severity: N/A<br>Rationale: The metabolism of Simvastatin can be decreased when combined with Acetaminophen.",
          "RxCUI: 152923, 828555<br>Severity: N/A<br>Rationale: The metabolism of Simvastatin can be decreased when combined with Acetaminophen.",
          "RxCUI: 152923, 828555<br>Severity: N/A<br>Rationale: The metabolism of Simvastatin can be decreased when combined with Acetaminophen.",
          "RxCUI: 152923, 828555<br>Severity: N/A<br>Rationale: The metabolism of Simvastatin can be decreased when combined with Acetaminophen.",
          "RxCUI: 152923, 828555<br>Severity: N/A<br>Rationale: The metabolism of Simvastatin can be decreased when combined with Acetaminophen.",
          "RxCUI: 152923, 828555<br>Severity: N/A<br>Rationale: The metabolism of Simvastatin can be decreased when combined with Acetaminophen.",
          "RxCUI: 152923, 828555<br>Severity: N/A<br>Rationale: The metabolism of Simvastatin can be decreased when combined with Acetaminophen.",
          "RxCUI: 152923, 828555<br>Severity: N/A<br>Rationale: The metabolism of Simvastatin can be decreased when combined with Acetaminophen.",
          "RxCUI: 152923, 828555<br>Severity: N/A<br>Rationale: The metabolism of Simvastatin can be decreased when combined with Acetaminophen.",
          "RxCUI: 152923, 656659<br>Severity: N/A<br>Rationale: The serum concentration of Simvastatin can be decreased when it is combined with Bosentan.",
          "RxCUI: 152923, 656659<br>Severity: N/A<br>Rationale: The serum concentration of Simvastatin can be decreased when it is combined with Bosentan.",
          "RxCUI: 152923, 656659<br>Severity: N/A<br>Rationale: The serum concentration of Simvastatin can be decreased when it is combined with Bosentan.",
          "RxCUI: 152923, 656659<br>Severity: N/A<br>Rationale: The serum concentration of Simvastatin can be decreased when it is combined with Bosentan.",
          "RxCUI: 152923, 656659<br>Severity: N/A<br>Rationale: The serum concentration of Simvastatin can be decreased when it is combined with Bosentan.",
          "RxCUI: 152923, 656659<br>Severity: N/A<br>Rationale: The serum concentration of Simvastatin can be decreased when it is combined with Bosentan.",
          "RxCUI: 152923, 656659<br>Severity: N/A<br>Rationale: The serum concentration of Simvastatin can be decreased when it is combined with Bosentan.",
          "RxCUI: 152923, 656659<br>Severity: N/A<br>Rationale: The serum concentration of Simvastatin can be decreased when it is combined with Bosentan.",
          "RxCUI: 152923, 656659<br>Severity: N/A<br>Rationale: The serum concentration of Simvastatin can be decreased when it is combined with Bosentan.",
          "RxCUI: 152923, 656659<br>Severity: N/A<br>Rationale: The serum concentration of Simvastatin can be decreased when it is combined with Bosentan.",
          "RxCUI: 152923, 656659<br>Severity: N/A<br>Rationale: The serum concentration of Simvastatin can be decreased when it is combined with Bosentan.",
          "RxCUI: 152923, 656659<br>Severity: N/A<br>Rationale: The serum concentration of Simvastatin can be decreased when it is combined with Bosentan.",
          "RxCUI: 152923, 656659<br>Severity: N/A<br>Rationale: The serum concentration of Simvastatin can be decreased when it is combined with Bosentan.",
          "RxCUI: 152923, 656659<br>Severity: N/A<br>Rationale: The serum concentration of Simvastatin can be decreased when it is combined with Bosentan.",
          "RxCUI: 152923, 656659<br>Severity: N/A<br>Rationale: The serum concentration of Simvastatin can be decreased when it is combined with Bosentan.",
          "RxCUI: 152923, 828557<br>Severity: N/A<br>Rationale: The metabolism of Simvastatin can be decreased when combined with Acetaminophen.",
          "RxCUI: 152923, 828557<br>Severity: N/A<br>Rationale: The metabolism of Simvastatin can be decreased when combined with Acetaminophen.",
          "RxCUI: 152923, 828557<br>Severity: N/A<br>Rationale: The metabolism of Simvastatin can be decreased when combined with Acetaminophen.",
          "RxCUI: 152923, 828557<br>Severity: N/A<br>Rationale: The metabolism of Simvastatin can be decreased when combined with Acetaminophen.",
          "RxCUI: 152923, 828557<br>Severity: N/A<br>Rationale: The metabolism of Simvastatin can be decreased when combined with Acetaminophen.",
          "RxCUI: 152923, 828557<br>Severity: N/A<br>Rationale: The metabolism of Simvastatin can be decreased when combined with Acetaminophen.",
          "RxCUI: 152923, 828557<br>Severity: N/A<br>Rationale: The metabolism of Simvastatin can be decreased when combined with Acetaminophen.",
          "RxCUI: 152923, 828557<br>Severity: N/A<br>Rationale: The metabolism of Simvastatin can be decreased when combined with Acetaminophen.",
          "RxCUI: 152923, 828557<br>Severity: N/A<br>Rationale: The metabolism of Simvastatin can be decreased when combined with Acetaminophen.",
          "RxCUI: 152923, 828557<br>Severity: N/A<br>Rationale: The metabolism of Simvastatin can be decreased when combined with Acetaminophen.",
          "RxCUI: 152923, 828557<br>Severity: N/A<br>Rationale: The metabolism of Simvastatin can be decreased when combined with Acetaminophen.",
          "RxCUI: 152923, 828557<br>Severity: N/A<br>Rationale: The metabolism of Simvastatin can be decreased when combined with Acetaminophen.",
          "RxCUI: 152923, 828557<br>Severity: N/A<br>Rationale: The metabolism of Simvastatin can be decreased when combined with Acetaminophen.",
          "RxCUI: 152923, 828557<br>Severity: N/A<br>Rationale: The metabolism of Simvastatin can be decreased when combined with Acetaminophen.",
          "RxCUI: 152923, 828557<br>Severity: N/A<br>Rationale: The metabolism of Simvastatin can be decreased when combined with Acetaminophen.",
          "RxCUI: 152923, 209387<br>Severity: N/A<br>Rationale: The metabolism of Simvastatin can be decreased when combined with Acetaminophen.",
          "RxCUI: 152923, 209387<br>Severity: N/A<br>Rationale: The metabolism of Simvastatin can be decreased when combined with Acetaminophen.",
          "RxCUI: 152923, 209387<br>Severity: N/A<br>Rationale: The metabolism of Simvastatin can be decreased when combined with Acetaminophen.",
          "RxCUI: 152923, 209387<br>Severity: N/A<br>Rationale: The metabolism of Simvastatin can be decreased when combined with Acetaminophen.",
          "RxCUI: 152923, 209387<br>Severity: N/A<br>Rationale: The metabolism of Simvastatin can be decreased when combined with Acetaminophen.",
          "RxCUI: 152923, 209387<br>Severity: N/A<br>Rationale: The metabolism of Simvastatin can be decreased when combined with Acetaminophen.",
          "RxCUI: 152923, 209387<br>Severity: N/A<br>Rationale: The metabolism of Simvastatin can be decreased when combined with Acetaminophen.",
          "RxCUI: 152923, 209387<br>Severity: N/A<br>Rationale: The metabolism of Simvastatin can be decreased when combined with Acetaminophen.",
          "RxCUI: 152923, 209387<br>Severity: N/A<br>Rationale: The metabolism of Simvastatin can be decreased when combined with Acetaminophen.",
          "RxCUI: 152923, 209387<br>Severity: N/A<br>Rationale: The metabolism of Simvastatin can be decreased when combined with Acetaminophen.",
          "RxCUI: 152923, 209387<br>Severity: N/A<br>Rationale: The metabolism of Simvastatin can be decreased when combined with Acetaminophen.",
          "RxCUI: 152923, 209387<br>Severity: N/A<br>Rationale: The metabolism of Simvastatin can be decreased when combined with Acetaminophen.",
          "RxCUI: 152923, 209387<br>Severity: N/A<br>Rationale: The metabolism of Simvastatin can be decreased when combined with Acetaminophen.",
          "RxCUI: 152923, 209387<br>Severity: N/A<br>Rationale: The metabolism of Simvastatin can be decreased when combined with Acetaminophen.",
          "RxCUI: 152923, 209387<br>Severity: N/A<br>Rationale: The metabolism of Simvastatin can be decreased when combined with Acetaminophen."
         ],
         "marker": {
          "opacity": 0
         },
         "mode": "markers",
         "showlegend": false,
         "type": "scatter",
         "x": [
          -0.9426487546640872,
          -0.8852975093281744,
          -0.8279462639922617,
          -0.7705950186563488,
          -0.713243773320436,
          -0.6558925279845231,
          -0.5985412826486103,
          -0.5411900373126975,
          -0.48383879197678475,
          -0.42648754664087196,
          -0.3691363013049591,
          -0.3117850559690463,
          -0.25443381063313353,
          -0.19708256529722068,
          -0.1397313199613079,
          -0.9327996216770054,
          -0.8655992433540108,
          -0.7983988650310163,
          -0.7311984867080217,
          -0.663998108385027,
          -0.5967977300620325,
          -0.529597351739038,
          -0.4623969734160434,
          -0.39519659509304883,
          -0.32799621677005425,
          -0.26079583844705967,
          -0.19359546012406512,
          -0.12639508180107054,
          -0.05919470347807597,
          0.008005674844918605,
          -0.030406996993884237,
          0.021566080637626592,
          0.07353915826913743,
          0.12551223590064825,
          0.17748531353215907,
          0.22945839116366992,
          0.2814314687951808,
          0.3334045464266916,
          0.3853776240582024,
          0.4373507016897133,
          0.4893237793212242,
          0.541296856952735,
          0.5932699345842458,
          0.6452430122157566,
          0.6972160898472675,
          -0.09117674536607434,
          -0.09997341610675362,
          -0.10877008684743289,
          -0.11756675758811218,
          -0.12636342832879147,
          -0.13516009906947074,
          -0.14395676981015001,
          -0.1527534405508293,
          -0.16155011129150856,
          -0.17034678203218784,
          -0.1791434527728671,
          -0.1879401235135464,
          -0.19673679425422566,
          -0.20553346499490494,
          -0.2143301357355842,
          -0.0725309416383133,
          -0.06268180865123153,
          -0.05283267566414977,
          -0.042983542677068005,
          -0.03313440968998624,
          -0.023285276702904475,
          -0.01343614371582271,
          -0.003587010728740944,
          0.006262122258340821,
          0.016111255245422586,
          0.02596038823250435,
          0.03580952121958612,
          0.045658654206667884,
          0.055507787193749644,
          0.06535692018083142,
          -0.10437899198215901,
          -0.12637790933892296,
          -0.1483768266956869,
          -0.17037574405245082,
          -0.19237466140921475,
          -0.21437357876597868,
          -0.2363724961227426,
          -0.25837141347950654,
          -0.2803703308362705,
          -0.3023692481930344,
          -0.3243681655497983,
          -0.34636708290656226,
          -0.3683660002633262,
          -0.3903649176200902,
          -0.41236383497685414,
          -0.020014169162021388,
          0.04235173630135229,
          0.10471764176472598,
          0.16708354722809965,
          0.22944945269147332,
          0.291815358154847,
          0.35418126361822067,
          0.41654716908159434,
          0.478913074544968,
          0.5412789800083417,
          0.6036448854717154,
          0.6660107909350891,
          0.7283766963984628,
          0.7907426018618364,
          0.85310850732521,
          0.1277228256442051,
          0.180239598120497,
          0.23275637059678891,
          0.2852731430730808,
          0.33778991554937277,
          0.39030668802566465,
          0.44282346050195653,
          0.4953402329782485,
          0.5478570054545404,
          0.6003737779308322,
          0.6528905504071242,
          0.7054073228834161,
          0.7579240953597081,
          0.810440867836,
          0.8629576403122918,
          0.043358002824067474,
          0.011509952480221776,
          -0.020338097863623925,
          -0.052186148207469626,
          -0.08403419855131533,
          -0.11588224889516102,
          -0.1477302992390067,
          -0.17957834958285243,
          -0.21142639992669815,
          -0.24327445027054384,
          -0.27512250061438953,
          -0.3069705509582352,
          -0.3388186013020809,
          -0.3706666516459266,
          -0.40251470198977235,
          0.11732999781234224,
          0.1594539424567713,
          0.2015778871012004,
          0.24370183174562945,
          0.2858257763900585,
          0.3279497210344876,
          0.37007366567891664,
          0.41219761032334573,
          0.4543215549677748,
          0.49644549961220386,
          0.5385694442566329,
          0.580693388901062,
          0.6228173335454912,
          0.6649412781899202,
          0.7070652228343492,
          0.05656024944015214,
          0.037914445712391096,
          0.019268641984630054,
          0.0006228382568690127,
          -0.01802296547089203,
          -0.03666876919865307,
          -0.05531457292641411,
          -0.07396037665417515,
          -0.09260618038193619,
          -0.11125198410969724,
          -0.12989778783745828,
          -0.14854359156521932,
          -0.16718939529298038,
          -0.18583519902074142,
          -0.20448100274850245
         ],
         "y": [
          -0.13385760759605805,
          -0.11416937638850443,
          -0.0944811451809508,
          -0.07479291397339718,
          -0.05510468276584356,
          -0.03541645155828994,
          -0.015728220350736313,
          0.0039600108568173115,
          0.023648242064370936,
          0.04333647327192456,
          0.06302470447947818,
          0.08271293568703181,
          0.10240116689458542,
          0.12208939810213905,
          0.14177762930969268,
          -0.15415041241994448,
          -0.15475498603627727,
          -0.15535955965261006,
          -0.15596413326894287,
          -0.1565687068852757,
          -0.15717328050160848,
          -0.15777785411794126,
          -0.15838242773427408,
          -0.1589870013506069,
          -0.15959157496693968,
          -0.16019614858327247,
          -0.16080072219960528,
          -0.16140529581593807,
          -0.16200986943227086,
          -0.16261444304860367,
          0.19371286592240816,
          0.22595987132757006,
          0.2582068767327319,
          0.2904538821378938,
          0.3227008875430557,
          0.3549478929482176,
          0.3871948983533795,
          0.41944190375854135,
          0.4516889091637032,
          0.4839359145688651,
          0.516182919974027,
          0.5484299253791889,
          0.5806769307843508,
          0.6129239361895127,
          0.6451709415946745,
          0.08966407013779576,
          0.017862279758345243,
          -0.05393951062110528,
          -0.1257413010005558,
          -0.19754309138000634,
          -0.26934488175945687,
          -0.34114667213890737,
          -0.41294846251835793,
          -0.4847502528978085,
          -0.556552043277259,
          -0.6283538336567096,
          -0.70015562403616,
          -0.7719574144156105,
          -0.8437592047950611,
          -0.9155609951745116,
          0.14117305569335986,
          0.12088025086947345,
          0.10058744604558703,
          0.0802946412217006,
          0.06000183639781418,
          0.03970903157392776,
          0.019416226750041336,
          -0.0008765780738450857,
          -0.021169382897731508,
          -0.04146218772161793,
          -0.06175499254550435,
          -0.08204779736939077,
          -0.1023406021932772,
          -0.12263340701716362,
          -0.14292621184105003,
          0.20864558469019184,
          0.2558253088631374,
          0.303005033036083,
          0.3501847572090286,
          0.3973644813819741,
          0.4445442055549197,
          0.49172392972786527,
          0.5389036539008109,
          0.5860833780737564,
          0.633263102246702,
          0.6804428264196476,
          0.7276225505925932,
          0.7748022747655388,
          0.8219819989384843,
          0.8691617231114299,
          0.12318064337373415,
          0.084895426230222,
          0.04661020908670987,
          0.008324991943197732,
          -0.029960225200314404,
          -0.06824544234382654,
          -0.10653065948733868,
          -0.14481587663085083,
          -0.18310109377436296,
          -0.2213863109178751,
          -0.25967152806138727,
          -0.2979567452048994,
          -0.3362419623484115,
          -0.3745271794919237,
          -0.41281239663543584,
          -0.18121142898456216,
          -0.1992038413041879,
          -0.21719625362381362,
          -0.23518866594343935,
          -0.2531810782630651,
          -0.2711734905826908,
          -0.2891659029023165,
          -0.3071583152219422,
          -0.32515072754156793,
          -0.3431431398611936,
          -0.36113555218081933,
          -0.37912796450044506,
          -0.3971203768200708,
          -0.4151127891396965,
          -0.43310520145932224,
          -0.09574648766810447,
          -0.028273958671272463,
          0.03919857032555954,
          0.10667109932239154,
          0.17414362831922353,
          0.24161615731605554,
          0.30908868631288755,
          0.37656121530971953,
          0.4440337443065515,
          0.5115062733033835,
          0.5789788023002155,
          0.6464513312970475,
          0.7139238602938794,
          0.7813963892907114,
          0.8488689182875435,
          -0.11067920643588816,
          -0.058139396206839854,
          -0.00559958597779155,
          0.046940224251256754,
          0.09948003448030507,
          0.15201984470935337,
          0.20455965493840167,
          0.25709946516744997,
          0.30963927539649827,
          0.36217908562554657,
          0.41471889585459487,
          0.46725870608364317,
          0.5197985163126915,
          0.5723383265417398,
          0.6248781367707881,
          -0.2147280022205006,
          -0.2662369877760647,
          -0.3177459733316288,
          -0.3692549588871929,
          -0.420763944442757,
          -0.47227292999832116,
          -0.5237819155538852,
          -0.5752909011094494,
          -0.6267998866650135,
          -0.6783088722205776,
          -0.7298178577761416,
          -0.7813268433317058,
          -0.8328358288872699,
          -0.884344814442834,
          -0.935853799998398
         ]
        },
        {
         "hoverinfo": "text",
         "line": {
          "color": "#888",
          "width": 0.5
         },
         "mode": "lines",
         "type": "scatter",
         "x": [
          -1,
          -0.08238007462539507,
          null,
          -1,
          0.07520605316791318,
          null,
          -0.08238007462539507,
          0.7491891674787783,
          null,
          -0.08238007462539507,
          -0.22312680647626348,
          null,
          -0.08238007462539507,
          0.07520605316791318,
          null,
          -0.08238007462539507,
          -0.43436275233361804,
          null,
          -0.08238007462539507,
          0.9154744127885838,
          null,
          0.07520605316791318,
          0.9154744127885838,
          null,
          0.07520605316791318,
          -0.43436275233361804,
          null,
          0.07520605316791318,
          0.7491891674787783,
          null,
          0.07520605316791318,
          -0.22312680647626348,
          null
         ],
         "y": [
          -0.15354583880361167,
          0.1614658605172463,
          null,
          -0.15354583880361167,
          -0.16321901666493646,
          null,
          0.1614658605172463,
          0.6774179469998364,
          null,
          0.1614658605172463,
          -0.9873627855539622,
          null,
          0.1614658605172463,
          -0.16321901666493646,
          null,
          0.1614658605172463,
          0.9163414472843755,
          null,
          0.1614658605172463,
          -0.45109761377894797,
          null,
          -0.16321901666493646,
          -0.45109761377894797,
          null,
          -0.16321901666493646,
          0.9163414472843755,
          null,
          -0.16321901666493646,
          0.6774179469998364,
          null,
          -0.16321901666493646,
          -0.9873627855539622,
          null
         ]
        }
       ],
       "layout": {
        "annotations": [
         {
          "showarrow": false,
          "text": "1738139",
          "x": -1,
          "xref": "x",
          "y": -0.2535458388036117,
          "yref": "y"
         },
         {
          "showarrow": false,
          "text": "207106",
          "x": -0.08238007462539507,
          "xref": "x",
          "y": 0.061465860517246285,
          "yref": "y"
         },
         {
          "showarrow": false,
          "text": "152923",
          "x": 0.07520605316791318,
          "xref": "x",
          "y": -0.26321901666493647,
          "yref": "y"
         },
         {
          "showarrow": false,
          "text": "828557",
          "x": 0.7491891674787783,
          "xref": "x",
          "y": 0.5774179469998364,
          "yref": "y"
         },
         {
          "showarrow": false,
          "text": "209387",
          "x": -0.22312680647626348,
          "xref": "x",
          "y": -1.0873627855539623,
          "yref": "y"
         },
         {
          "showarrow": false,
          "text": "656659",
          "x": -0.43436275233361804,
          "xref": "x",
          "y": 0.8163414472843755,
          "yref": "y"
         },
         {
          "showarrow": false,
          "text": "828555",
          "x": 0.9154744127885838,
          "xref": "x",
          "y": -0.551097613778948,
          "yref": "y"
         }
        ],
        "hovermode": "closest",
        "margin": {
         "b": 20,
         "l": 5,
         "r": 5,
         "t": 40
        },
        "showlegend": false,
        "template": {
         "data": {
          "bar": [
           {
            "error_x": {
             "color": "#2a3f5f"
            },
            "error_y": {
             "color": "#2a3f5f"
            },
            "marker": {
             "line": {
              "color": "#E5ECF6",
              "width": 0.5
             },
             "pattern": {
              "fillmode": "overlay",
              "size": 10,
              "solidity": 0.2
             }
            },
            "type": "bar"
           }
          ],
          "barpolar": [
           {
            "marker": {
             "line": {
              "color": "#E5ECF6",
              "width": 0.5
             },
             "pattern": {
              "fillmode": "overlay",
              "size": 10,
              "solidity": 0.2
             }
            },
            "type": "barpolar"
           }
          ],
          "carpet": [
           {
            "aaxis": {
             "endlinecolor": "#2a3f5f",
             "gridcolor": "white",
             "linecolor": "white",
             "minorgridcolor": "white",
             "startlinecolor": "#2a3f5f"
            },
            "baxis": {
             "endlinecolor": "#2a3f5f",
             "gridcolor": "white",
             "linecolor": "white",
             "minorgridcolor": "white",
             "startlinecolor": "#2a3f5f"
            },
            "type": "carpet"
           }
          ],
          "choropleth": [
           {
            "colorbar": {
             "outlinewidth": 0,
             "ticks": ""
            },
            "type": "choropleth"
           }
          ],
          "contour": [
           {
            "colorbar": {
             "outlinewidth": 0,
             "ticks": ""
            },
            "colorscale": [
             [
              0,
              "#0d0887"
             ],
             [
              0.1111111111111111,
              "#46039f"
             ],
             [
              0.2222222222222222,
              "#7201a8"
             ],
             [
              0.3333333333333333,
              "#9c179e"
             ],
             [
              0.4444444444444444,
              "#bd3786"
             ],
             [
              0.5555555555555556,
              "#d8576b"
             ],
             [
              0.6666666666666666,
              "#ed7953"
             ],
             [
              0.7777777777777778,
              "#fb9f3a"
             ],
             [
              0.8888888888888888,
              "#fdca26"
             ],
             [
              1,
              "#f0f921"
             ]
            ],
            "type": "contour"
           }
          ],
          "contourcarpet": [
           {
            "colorbar": {
             "outlinewidth": 0,
             "ticks": ""
            },
            "type": "contourcarpet"
           }
          ],
          "heatmap": [
           {
            "colorbar": {
             "outlinewidth": 0,
             "ticks": ""
            },
            "colorscale": [
             [
              0,
              "#0d0887"
             ],
             [
              0.1111111111111111,
              "#46039f"
             ],
             [
              0.2222222222222222,
              "#7201a8"
             ],
             [
              0.3333333333333333,
              "#9c179e"
             ],
             [
              0.4444444444444444,
              "#bd3786"
             ],
             [
              0.5555555555555556,
              "#d8576b"
             ],
             [
              0.6666666666666666,
              "#ed7953"
             ],
             [
              0.7777777777777778,
              "#fb9f3a"
             ],
             [
              0.8888888888888888,
              "#fdca26"
             ],
             [
              1,
              "#f0f921"
             ]
            ],
            "type": "heatmap"
           }
          ],
          "heatmapgl": [
           {
            "colorbar": {
             "outlinewidth": 0,
             "ticks": ""
            },
            "colorscale": [
             [
              0,
              "#0d0887"
             ],
             [
              0.1111111111111111,
              "#46039f"
             ],
             [
              0.2222222222222222,
              "#7201a8"
             ],
             [
              0.3333333333333333,
              "#9c179e"
             ],
             [
              0.4444444444444444,
              "#bd3786"
             ],
             [
              0.5555555555555556,
              "#d8576b"
             ],
             [
              0.6666666666666666,
              "#ed7953"
             ],
             [
              0.7777777777777778,
              "#fb9f3a"
             ],
             [
              0.8888888888888888,
              "#fdca26"
             ],
             [
              1,
              "#f0f921"
             ]
            ],
            "type": "heatmapgl"
           }
          ],
          "histogram": [
           {
            "marker": {
             "pattern": {
              "fillmode": "overlay",
              "size": 10,
              "solidity": 0.2
             }
            },
            "type": "histogram"
           }
          ],
          "histogram2d": [
           {
            "colorbar": {
             "outlinewidth": 0,
             "ticks": ""
            },
            "colorscale": [
             [
              0,
              "#0d0887"
             ],
             [
              0.1111111111111111,
              "#46039f"
             ],
             [
              0.2222222222222222,
              "#7201a8"
             ],
             [
              0.3333333333333333,
              "#9c179e"
             ],
             [
              0.4444444444444444,
              "#bd3786"
             ],
             [
              0.5555555555555556,
              "#d8576b"
             ],
             [
              0.6666666666666666,
              "#ed7953"
             ],
             [
              0.7777777777777778,
              "#fb9f3a"
             ],
             [
              0.8888888888888888,
              "#fdca26"
             ],
             [
              1,
              "#f0f921"
             ]
            ],
            "type": "histogram2d"
           }
          ],
          "histogram2dcontour": [
           {
            "colorbar": {
             "outlinewidth": 0,
             "ticks": ""
            },
            "colorscale": [
             [
              0,
              "#0d0887"
             ],
             [
              0.1111111111111111,
              "#46039f"
             ],
             [
              0.2222222222222222,
              "#7201a8"
             ],
             [
              0.3333333333333333,
              "#9c179e"
             ],
             [
              0.4444444444444444,
              "#bd3786"
             ],
             [
              0.5555555555555556,
              "#d8576b"
             ],
             [
              0.6666666666666666,
              "#ed7953"
             ],
             [
              0.7777777777777778,
              "#fb9f3a"
             ],
             [
              0.8888888888888888,
              "#fdca26"
             ],
             [
              1,
              "#f0f921"
             ]
            ],
            "type": "histogram2dcontour"
           }
          ],
          "mesh3d": [
           {
            "colorbar": {
             "outlinewidth": 0,
             "ticks": ""
            },
            "type": "mesh3d"
           }
          ],
          "parcoords": [
           {
            "line": {
             "colorbar": {
              "outlinewidth": 0,
              "ticks": ""
             }
            },
            "type": "parcoords"
           }
          ],
          "pie": [
           {
            "automargin": true,
            "type": "pie"
           }
          ],
          "scatter": [
           {
            "fillpattern": {
             "fillmode": "overlay",
             "size": 10,
             "solidity": 0.2
            },
            "type": "scatter"
           }
          ],
          "scatter3d": [
           {
            "line": {
             "colorbar": {
              "outlinewidth": 0,
              "ticks": ""
             }
            },
            "marker": {
             "colorbar": {
              "outlinewidth": 0,
              "ticks": ""
             }
            },
            "type": "scatter3d"
           }
          ],
          "scattercarpet": [
           {
            "marker": {
             "colorbar": {
              "outlinewidth": 0,
              "ticks": ""
             }
            },
            "type": "scattercarpet"
           }
          ],
          "scattergeo": [
           {
            "marker": {
             "colorbar": {
              "outlinewidth": 0,
              "ticks": ""
             }
            },
            "type": "scattergeo"
           }
          ],
          "scattergl": [
           {
            "marker": {
             "colorbar": {
              "outlinewidth": 0,
              "ticks": ""
             }
            },
            "type": "scattergl"
           }
          ],
          "scattermapbox": [
           {
            "marker": {
             "colorbar": {
              "outlinewidth": 0,
              "ticks": ""
             }
            },
            "type": "scattermapbox"
           }
          ],
          "scatterpolar": [
           {
            "marker": {
             "colorbar": {
              "outlinewidth": 0,
              "ticks": ""
             }
            },
            "type": "scatterpolar"
           }
          ],
          "scatterpolargl": [
           {
            "marker": {
             "colorbar": {
              "outlinewidth": 0,
              "ticks": ""
             }
            },
            "type": "scatterpolargl"
           }
          ],
          "scatterternary": [
           {
            "marker": {
             "colorbar": {
              "outlinewidth": 0,
              "ticks": ""
             }
            },
            "type": "scatterternary"
           }
          ],
          "surface": [
           {
            "colorbar": {
             "outlinewidth": 0,
             "ticks": ""
            },
            "colorscale": [
             [
              0,
              "#0d0887"
             ],
             [
              0.1111111111111111,
              "#46039f"
             ],
             [
              0.2222222222222222,
              "#7201a8"
             ],
             [
              0.3333333333333333,
              "#9c179e"
             ],
             [
              0.4444444444444444,
              "#bd3786"
             ],
             [
              0.5555555555555556,
              "#d8576b"
             ],
             [
              0.6666666666666666,
              "#ed7953"
             ],
             [
              0.7777777777777778,
              "#fb9f3a"
             ],
             [
              0.8888888888888888,
              "#fdca26"
             ],
             [
              1,
              "#f0f921"
             ]
            ],
            "type": "surface"
           }
          ],
          "table": [
           {
            "cells": {
             "fill": {
              "color": "#EBF0F8"
             },
             "line": {
              "color": "white"
             }
            },
            "header": {
             "fill": {
              "color": "#C8D4E3"
             },
             "line": {
              "color": "white"
             }
            },
            "type": "table"
           }
          ]
         },
         "layout": {
          "annotationdefaults": {
           "arrowcolor": "#2a3f5f",
           "arrowhead": 0,
           "arrowwidth": 1
          },
          "autotypenumbers": "strict",
          "coloraxis": {
           "colorbar": {
            "outlinewidth": 0,
            "ticks": ""
           }
          },
          "colorscale": {
           "diverging": [
            [
             0,
             "#8e0152"
            ],
            [
             0.1,
             "#c51b7d"
            ],
            [
             0.2,
             "#de77ae"
            ],
            [
             0.3,
             "#f1b6da"
            ],
            [
             0.4,
             "#fde0ef"
            ],
            [
             0.5,
             "#f7f7f7"
            ],
            [
             0.6,
             "#e6f5d0"
            ],
            [
             0.7,
             "#b8e186"
            ],
            [
             0.8,
             "#7fbc41"
            ],
            [
             0.9,
             "#4d9221"
            ],
            [
             1,
             "#276419"
            ]
           ],
           "sequential": [
            [
             0,
             "#0d0887"
            ],
            [
             0.1111111111111111,
             "#46039f"
            ],
            [
             0.2222222222222222,
             "#7201a8"
            ],
            [
             0.3333333333333333,
             "#9c179e"
            ],
            [
             0.4444444444444444,
             "#bd3786"
            ],
            [
             0.5555555555555556,
             "#d8576b"
            ],
            [
             0.6666666666666666,
             "#ed7953"
            ],
            [
             0.7777777777777778,
             "#fb9f3a"
            ],
            [
             0.8888888888888888,
             "#fdca26"
            ],
            [
             1,
             "#f0f921"
            ]
           ],
           "sequentialminus": [
            [
             0,
             "#0d0887"
            ],
            [
             0.1111111111111111,
             "#46039f"
            ],
            [
             0.2222222222222222,
             "#7201a8"
            ],
            [
             0.3333333333333333,
             "#9c179e"
            ],
            [
             0.4444444444444444,
             "#bd3786"
            ],
            [
             0.5555555555555556,
             "#d8576b"
            ],
            [
             0.6666666666666666,
             "#ed7953"
            ],
            [
             0.7777777777777778,
             "#fb9f3a"
            ],
            [
             0.8888888888888888,
             "#fdca26"
            ],
            [
             1,
             "#f0f921"
            ]
           ]
          },
          "colorway": [
           "#636efa",
           "#EF553B",
           "#00cc96",
           "#ab63fa",
           "#FFA15A",
           "#19d3f3",
           "#FF6692",
           "#B6E880",
           "#FF97FF",
           "#FECB52"
          ],
          "font": {
           "color": "#2a3f5f"
          },
          "geo": {
           "bgcolor": "white",
           "lakecolor": "white",
           "landcolor": "#E5ECF6",
           "showlakes": true,
           "showland": true,
           "subunitcolor": "white"
          },
          "hoverlabel": {
           "align": "left"
          },
          "hovermode": "closest",
          "mapbox": {
           "style": "light"
          },
          "paper_bgcolor": "white",
          "plot_bgcolor": "#E5ECF6",
          "polar": {
           "angularaxis": {
            "gridcolor": "white",
            "linecolor": "white",
            "ticks": ""
           },
           "bgcolor": "#E5ECF6",
           "radialaxis": {
            "gridcolor": "white",
            "linecolor": "white",
            "ticks": ""
           }
          },
          "scene": {
           "xaxis": {
            "backgroundcolor": "#E5ECF6",
            "gridcolor": "white",
            "gridwidth": 2,
            "linecolor": "white",
            "showbackground": true,
            "ticks": "",
            "zerolinecolor": "white"
           },
           "yaxis": {
            "backgroundcolor": "#E5ECF6",
            "gridcolor": "white",
            "gridwidth": 2,
            "linecolor": "white",
            "showbackground": true,
            "ticks": "",
            "zerolinecolor": "white"
           },
           "zaxis": {
            "backgroundcolor": "#E5ECF6",
            "gridcolor": "white",
            "gridwidth": 2,
            "linecolor": "white",
            "showbackground": true,
            "ticks": "",
            "zerolinecolor": "white"
           }
          },
          "shapedefaults": {
           "line": {
            "color": "#2a3f5f"
           }
          },
          "ternary": {
           "aaxis": {
            "gridcolor": "white",
            "linecolor": "white",
            "ticks": ""
           },
           "baxis": {
            "gridcolor": "white",
            "linecolor": "white",
            "ticks": ""
           },
           "bgcolor": "#E5ECF6",
           "caxis": {
            "gridcolor": "white",
            "linecolor": "white",
            "ticks": ""
           }
          },
          "title": {
           "x": 0.05
          },
          "xaxis": {
           "automargin": true,
           "gridcolor": "white",
           "linecolor": "white",
           "ticks": "",
           "title": {
            "standoff": 15
           },
           "zerolinecolor": "white",
           "zerolinewidth": 2
          },
          "yaxis": {
           "automargin": true,
           "gridcolor": "white",
           "linecolor": "white",
           "ticks": "",
           "title": {
            "standoff": 15
           },
           "zerolinecolor": "white",
           "zerolinewidth": 2
          }
         }
        },
        "title": {
         "font": {
          "size": 16
         },
         "text": "<br>Drug interactions graph"
        },
        "xaxis": {
         "showgrid": false,
         "showticklabels": false,
         "zeroline": false
        },
        "yaxis": {
         "showgrid": false,
         "showticklabels": false,
         "zeroline": false
        }
       }
      }
     },
     "metadata": {},
     "output_type": "display_data"
    }
   ],
   "source": [
    "import plotly.graph_objects as go\n",
    "import networkx as nx\n",
    "from collections import deque\n",
    "\n",
    "# Function to create a NetworkX graph from your graph structure\n",
    "def create_networkx_graph(drug_graph):\n",
    "    G = nx.Graph()\n",
    "    for vertex in drug_graph.vert_list.values():\n",
    "        G.add_node(vertex.id)\n",
    "        for neighbor in vertex.connectedTo:\n",
    "            G.add_edge(vertex.id, neighbor.id,\n",
    "                       severity=vertex.connectedTo[neighbor].severity,\n",
    "                       additional_info=vertex.connectedTo[neighbor].additional_info,) \n",
    "    return G\n",
    "\n",
    "def queue(a, b, qty):\n",
    "    \"\"\"either x0 and x1 or y0 and y1, qty of points to create\"\"\"\n",
    "    q = deque()\n",
    "    q.append((0, qty - 1)) # indexing starts at 0\n",
    "    pts = [0] * qty\n",
    "    pts[0] = a; pts[-1] = b # x0 is the first value, x1 is the last\n",
    "    while len(q) != 0:\n",
    "        left, right = q.popleft()       # remove working segment from queue\n",
    "        center = (left + right + 1)//2  # creates index values for pts\n",
    "        pts[center] = (pts[left] + pts[right])/2\n",
    "        if right - left > 2:            # stop when qty met\n",
    "            q.append((left, center))\n",
    "            q.append((center, right))\n",
    "    return pts\n",
    "\n",
    "def collector(x0, x1, y0, y1, qty, ht):\n",
    "    \"\"\"line segment end points, how many midpoints, hovertext\"\"\"\n",
    "    pth = [ht] * qty\n",
    "    ptx = queue(x0, x1, qty + 2) # add 2 because the origin will be in the list\n",
    "    pty = queue(y0, y1, qty + 2)\n",
    "    ptx.pop(0); ptx.pop()        # pop first and last (the nodes)\n",
    "    pty.pop(0); pty.pop()        # pop first and last (the nodes)\n",
    "    return ptx, pty, pth\n",
    "\n",
    "# Convert your graph to a NetworkX graph\n",
    "G = create_networkx_graph(graph)\n",
    "\n",
    "# Generate positions for each node using NetworkX\n",
    "pos = nx.spring_layout(G)\n",
    "\n",
    "# Extracting edge coordinates from the positions\n",
    "edge_x = []\n",
    "edge_y = []\n",
    "m2x, m2y, m2t = [], [], []\n",
    "for edge in G.edges():\n",
    "    x0, y0 = pos[edge[0]]\n",
    "    x1, y1 = pos[edge[1]]\n",
    "    edge_x.extend([x0, x1, None])  # Add None to create a break between lines\n",
    "    edge_y.extend([y0, y1, None])\n",
    "\n",
    "    info = f\"RxCUI: {edge[0]}, {edge[1]}<br>\" + \\\n",
    "           f\"Severity: {G.get_edge_data(edge[0], edge[1])['severity']}<br>\" + \\\n",
    "           f\"Rationale: {G.get_edge_data(edge[0], edge[1])['additional_info']}\"\n",
    "\n",
    "    ptsx, ptsy, ptsh = collector(x0, x1, y0, y1, 15, info)\n",
    "    m2x.extend(ptsx)\n",
    "    m2y.extend(ptsy)\n",
    "    m2t.extend(ptsh)\n",
    "\n",
    "# Create a trace for edges\n",
    "edge_trace = go.Scatter(\n",
    "    x=edge_x, y=edge_y,\n",
    "    line=dict(width=0.5, color='#888'),\n",
    "    hoverinfo='text',\n",
    "    mode='lines')\n",
    "\n",
    "mnode_trace = go.Scatter(x = m2x, y = m2y, mode = \"markers\", showlegend = False,\n",
    "                          hovertemplate = \"%{hovertext}<extra></extra>\",\n",
    "                          hovertext = m2t, marker = go.scatter.Marker(opacity = 0))\n",
    "\n",
    "# Extracting node coordinates and labels\n",
    "node_x = []\n",
    "node_y = []\n",
    "node_text = []\n",
    "for node in G.nodes():\n",
    "    x, y = pos[node]\n",
    "    node_x.append(x)\n",
    "    node_y.append(y)\n",
    "    node_text.append(node)\n",
    "\n",
    "# Create a trace for nodes\n",
    "node_trace = go.Scatter(\n",
    "    x=node_x, y=node_y,\n",
    "    mode='markers',\n",
    "    hoverinfo='text',\n",
    "    text=node_text,\n",
    "    marker=dict(\n",
    "        showscale=False,\n",
    "        color='blue',\n",
    "        size=10,\n",
    "        line_width=2))\n",
    "\n",
    "n_adjacencies = []\n",
    "n_text = []\n",
    "\n",
    "for node, adjacencies in enumerate(G.adjacency()):\n",
    "    n_adjacencies.append(len(adjacencies[1]))\n",
    "    n_text.append(f'RxCUI: {adjacencies[0]}<br>'+\n",
    "                  f'# of connections: {str(len(adjacencies[1]))}')\n",
    "\n",
    "node_trace.marker.color = n_adjacencies\n",
    "node_trace.text = n_text\n",
    "\n",
    "annots = []\n",
    "for node, (x, y) in pos.items():\n",
    "    annots.append(dict(x=x, y=y-0.1,\n",
    "                       xref='x', yref='y',\n",
    "                       text=node,\n",
    "                       showarrow=False)\n",
    "                    )\n",
    "\n",
    "# Create a Plotly figure\n",
    "fig = go.Figure(data=[edge_trace, node_trace, mnode_trace],\n",
    "             layout=go.Layout(\n",
    "                title='<br>Drug interactions graph',\n",
    "                titlefont_size=16,\n",
    "                showlegend=False,\n",
    "                hovermode='closest',\n",
    "                margin=dict(b=20,l=5,r=5,t=40),\n",
    "                annotations=annots,\n",
    "                xaxis=dict(showgrid=False, zeroline=False, showticklabels=False),\n",
    "                yaxis=dict(showgrid=False, zeroline=False, showticklabels=False)))\n",
    "\n",
    "fig.add_trace(edge_trace)\n",
    "fig.show()"
   ]
  },
  {
   "cell_type": "code",
   "execution_count": null,
   "metadata": {},
   "outputs": [],
   "source": []
  },
  {
   "cell_type": "code",
   "execution_count": 39,
   "metadata": {},
   "outputs": [
    {
     "name": "stdout",
     "output_type": "stream",
     "text": [
      "1738139\n",
      "207106\n",
      "152923\n",
      "828557\n",
      "209387\n",
      "656659\n",
      "828555\n"
     ]
    }
   ],
   "source": [
    "for i, node in enumerate(G.adjacency()):\n",
    "    print(node[0])"
   ]
  },
  {
   "cell_type": "code",
   "execution_count": 21,
   "metadata": {},
   "outputs": [
    {
     "ename": "KeyError",
     "evalue": "'pos'",
     "output_type": "error",
     "traceback": [
      "\u001b[0;31m---------------------------------------------------------------------------\u001b[0m",
      "\u001b[0;31mKeyError\u001b[0m                                  Traceback (most recent call last)",
      "\u001b[1;32m/Users/randy/My Drive/Sync_Google drive/Grad School/2023FA/507final/507-app/try.ipynb Cell 19\u001b[0m line \u001b[0;36m<cell line: 3>\u001b[0;34m()\u001b[0m\n\u001b[1;32m      <a href='vscode-notebook-cell:/Users/randy/My%20Drive/Sync_Google%20drive/Grad%20School/2023FA/507final/507-app/try.ipynb#X40sZmlsZQ%3D%3D?line=1'>2</a>\u001b[0m edge_y \u001b[39m=\u001b[39m []\n\u001b[1;32m      <a href='vscode-notebook-cell:/Users/randy/My%20Drive/Sync_Google%20drive/Grad%20School/2023FA/507final/507-app/try.ipynb#X40sZmlsZQ%3D%3D?line=2'>3</a>\u001b[0m \u001b[39mfor\u001b[39;00m edge \u001b[39min\u001b[39;00m G\u001b[39m.\u001b[39medges():\n\u001b[0;32m----> <a href='vscode-notebook-cell:/Users/randy/My%20Drive/Sync_Google%20drive/Grad%20School/2023FA/507final/507-app/try.ipynb#X40sZmlsZQ%3D%3D?line=3'>4</a>\u001b[0m     x0, y0 \u001b[39m=\u001b[39m G\u001b[39m.\u001b[39;49mnodes[edge[\u001b[39m0\u001b[39;49m]][\u001b[39m'\u001b[39;49m\u001b[39mpos\u001b[39;49m\u001b[39m'\u001b[39;49m]\n\u001b[1;32m      <a href='vscode-notebook-cell:/Users/randy/My%20Drive/Sync_Google%20drive/Grad%20School/2023FA/507final/507-app/try.ipynb#X40sZmlsZQ%3D%3D?line=4'>5</a>\u001b[0m     x1, y1 \u001b[39m=\u001b[39m G\u001b[39m.\u001b[39mnodes[edge[\u001b[39m1\u001b[39m]][\u001b[39m'\u001b[39m\u001b[39mpos\u001b[39m\u001b[39m'\u001b[39m]\n\u001b[1;32m      <a href='vscode-notebook-cell:/Users/randy/My%20Drive/Sync_Google%20drive/Grad%20School/2023FA/507final/507-app/try.ipynb#X40sZmlsZQ%3D%3D?line=5'>6</a>\u001b[0m     edge_x\u001b[39m.\u001b[39mappend(x0)\n",
      "\u001b[0;31mKeyError\u001b[0m: 'pos'"
     ]
    }
   ],
   "source": [
    "edge_x = []\n",
    "edge_y = []\n",
    "for edge in G.edges():\n",
    "    x0, y0 = G.nodes[edge[0]]['pos']\n",
    "    x1, y1 = G.nodes[edge[1]]['pos']\n",
    "    edge_x.append(x0)\n",
    "    edge_x.append(x1)\n",
    "    edge_x.append(None)\n",
    "    edge_y.append(y0)\n",
    "    edge_y.append(y1)\n",
    "    edge_y.append(None)\n",
    "\n",
    "edge_trace = go.Scatter(\n",
    "    x=edge_x, y=edge_y,\n",
    "    line=dict(width=0.5, color='#888'),\n",
    "    hoverinfo='none',\n",
    "    mode='lines')\n",
    "\n",
    "node_x = []\n",
    "node_y = []\n",
    "for node in G.nodes():\n",
    "    x, y = G.nodes[node]['pos']\n",
    "    node_x.append(x)\n",
    "    node_y.append(y)\n",
    "\n",
    "node_trace = go.Scatter(\n",
    "    x=node_x, y=node_y,\n",
    "    mode='markers',\n",
    "    hoverinfo='text',\n",
    "    marker=dict(\n",
    "        showscale=True,\n",
    "        # colorscale options\n",
    "        #'Greys' | 'YlGnBu' | 'Greens' | 'YlOrRd' | 'Bluered' | 'RdBu' |\n",
    "        #'Reds' | 'Blues' | 'Picnic' | 'Rainbow' | 'Portland' | 'Jet' |\n",
    "        #'Hot' | 'Blackbody' | 'Earth' | 'Electric' | 'Viridis' |\n",
    "        colorscale='YlGnBu',\n",
    "        reversescale=True,\n",
    "        color=[],\n",
    "        size=10,\n",
    "        colorbar=dict(\n",
    "            thickness=15,\n",
    "            title='Node Connections',\n",
    "            xanchor='left',\n",
    "            titleside='right'\n",
    "        ),\n",
    "        line_width=2))"
   ]
  },
  {
   "cell_type": "code",
   "execution_count": 16,
   "metadata": {},
   "outputs": [
    {
     "name": "stdout",
     "output_type": "stream",
     "text": [
      "2\n"
     ]
    }
   ],
   "source": [
    "from collections import deque\n",
    "\n",
    "def bfs(graph, start, end):\n",
    "    visited = set()\n",
    "    queue = deque([(start, 0)])\n",
    "\n",
    "    while queue:\n",
    "        current_vertex_id, distance = queue.popleft()\n",
    "        if current_vertex_id == end:\n",
    "            return distance\n",
    "\n",
    "        if current_vertex_id not in visited:\n",
    "            visited.add(current_vertex_id)\n",
    "            current_vertex = graph.vert_list[current_vertex_id]\n",
    "            for neighbor in current_vertex.connectedTo:\n",
    "                if neighbor.id not in visited:\n",
    "                    queue.append((neighbor.id, distance + 1))\n",
    "\n",
    "    return None\n",
    "\n",
    "print(bfs(graph, \"828555\", \"209387\"))"
   ]
  },
  {
   "cell_type": "code",
   "execution_count": 17,
   "metadata": {},
   "outputs": [
    {
     "data": {
      "text/plain": [
       "584904.0"
      ]
     },
     "execution_count": 17,
     "metadata": {},
     "output_type": "execute_result"
    }
   ],
   "source": [
    "import pandas as pd\n",
    "\n",
    "pd.read_html(\"https://www.nlm.nih.gov/research/umls/rxnorm/docs/2023/rxnorm_releasenotes_full_11062023.html\")[2]['Number'].sum()"
   ]
  },
  {
   "cell_type": "code",
   "execution_count": 19,
   "metadata": {},
   "outputs": [
    {
     "data": {
      "text/plain": [
       "{'1307431': 'sildenafil 10 MG/ML Oral Suspension [Revatio]',\n",
       " '213269': 'sildenafil 25 MG Oral Tablet [Viagra]',\n",
       " '213270': 'sildenafil 50 MG Oral Tablet [Viagra]',\n",
       " '213271': 'sildenafil 100 MG Oral Tablet [Viagra]',\n",
       " '2637056': 'sildenafil citrate 10 MG/ML Oral Suspension [Liqrev]',\n",
       " '581645': 'sildenafil 20 MG Oral Tablet [Revatio]',\n",
       " '882530': '12.5 ML sildenafil 0.8 MG/ML Injection [Revatio]',\n",
       " '1307427': 'sildenafil 10 MG/ML Oral Suspension',\n",
       " '2637050': 'sildenafil citrate 10 MG/ML Oral Suspension',\n",
       " '312950': 'sildenafil 50 MG Oral Tablet',\n",
       " '314228': 'sildenafil 25 MG Oral Tablet',\n",
       " '314229': 'sildenafil 100 MG Oral Tablet',\n",
       " '577033': 'sildenafil 20 MG Oral Tablet',\n",
       " '882527': '12.5 ML sildenafil 0.8 MG/ML Injection',\n",
       " '1243440': '8 HR acetaminophen 650 MG Extended Release Oral Tablet [Tylenol]',\n",
       " '1738139': 'acetaminophen 325 MG Oral Capsule [Tylenol]',\n",
       " '209387': 'acetaminophen 325 MG Oral Tablet [Tylenol]',\n",
       " '209459': 'acetaminophen 500 MG Oral Tablet [Tylenol]',\n",
       " '2178758': 'acetaminophen 160 MG Oral Powder [Tylenol]',\n",
       " '2374361': 'acetaminophen 500 MG Oral Powder [Tylenol]',\n",
       " '828555': 'acetaminophen 32 MG/ML Oral Suspension [Tylenol]',\n",
       " '828557': 'acetaminophen 160 MG Chewable Tablet [Tylenol]'}"
      ]
     },
     "execution_count": 19,
     "metadata": {},
     "output_type": "execute_result"
    }
   ],
   "source": [
    "rxnorm"
   ]
  },
  {
   "cell_type": "code",
   "execution_count": null,
   "metadata": {},
   "outputs": [],
   "source": [
    "with open(\"./my_app/cache.json\") as json_file:\n",
    "        json_data = json.load(json_file)['cache']"
   ]
  },
  {
   "cell_type": "code",
   "execution_count": null,
   "metadata": {},
   "outputs": [],
   "source": [
    "import json\n",
    "\n",
    "def getRxNorm(query_str):\n",
    "    query_str = [i.strip().lower() for i in query_str.split(',')]\n",
    "    cui_name = {}\n",
    "    with open(\"./my_app/cache.json\", 'r') as json_file:\n",
    "        cache = json.load(json_file)\n",
    "\n",
    "    for q in query_str:\n",
    "        if q in cache: \n",
    "            print(q)\n",
    "            print(cache.keys())\n",
    "            print(cache[q])\n",
    "            cui_name = cache[q]\n",
    "        else: \n",
    "            print(\"Fetching new data\")\n",
    "            content = requests.get(f'https://rxnav.nlm.nih.gov/REST/drugs.json?name={q}').json()\n",
    "            for i in content['drugGroup']['conceptGroup']:\n",
    "                try: \n",
    "                    for j in i['conceptProperties']:\n",
    "                        # cui_name.append([j['rxcui'], j['name']])\n",
    "                        cui_name[j['rxcui']] = j['name']\n",
    "                        cache.update({q: cui_name})\n",
    "                        with open(\"./my_app/cache.json\", \"w\") as f:\n",
    "                            json.dump(cache, f)\n",
    "                except KeyError:\n",
    "                    pass\n",
    "    return cui_name\n",
    "\n",
    "getRxNorm(\"Sildenafil\")"
   ]
  },
  {
   "cell_type": "code",
   "execution_count": null,
   "metadata": {},
   "outputs": [],
   "source": [
    "import json\n",
    "import requests\n",
    "\n",
    "def getRxNorm(query_str):\n",
    "    query_str = [i.strip().lower() for i in query_str.split(',')]\n",
    "    cui_name = {}  # dictionary to store cui to drug_name mapping\n",
    "    with open(\"./my_app/cache.json\", 'r') as json_file:\n",
    "        cache = json.load(json_file)\n",
    "    \n",
    "    for q in query_str:\n",
    "        if q in cache.keys(): \n",
    "            print(\"data found in cache\")\n",
    "            cui_name.update(cache[q])  # update cui_name with cached data\n",
    "        else: \n",
    "            print(\"Fetching new data\")\n",
    "            response = requests.get(f'https://rxnav.nlm.nih.gov/REST/drugs.json?name={q}').json()\n",
    "            new_data = {}  # temporary dictionary to store new API data\n",
    "            try:\n",
    "                for i in response['drugGroup']['conceptGroup']:\n",
    "                    if 'conceptProperties' in i:\n",
    "                        for j in i['conceptProperties']:\n",
    "                            new_data[j['rxcui']] = j['name']\n",
    "                cache[q] = new_data  # update cache with new data for q\n",
    "                cui_name.update(new_data)  # update cui_name with new API data\n",
    "            except KeyError:\n",
    "                pass\n",
    "\n",
    "    # Update the cache file only once after processing all queries\n",
    "    with open(\"./my_app/cache.json\", \"w\") as f:\n",
    "        json.dump(cache, f)\n",
    "\n",
    "    return cui_name\n",
    "\n",
    "# Example usage\n",
    "getRxNorm(\"Dextromethorphan, Sildenafil\")"
   ]
  }
 ],
 "metadata": {
  "kernelspec": {
   "display_name": "numpy_m1_build",
   "language": "python",
   "name": "python3"
  },
  "language_info": {
   "codemirror_mode": {
    "name": "ipython",
    "version": 3
   },
   "file_extension": ".py",
   "mimetype": "text/x-python",
   "name": "python",
   "nbconvert_exporter": "python",
   "pygments_lexer": "ipython3",
   "version": "3.10.4"
  }
 },
 "nbformat": 4,
 "nbformat_minor": 2
}
